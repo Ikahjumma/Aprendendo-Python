{
  "nbformat": 4,
  "nbformat_minor": 0,
  "metadata": {
    "colab": {
      "provenance": [],
      "authorship_tag": "ABX9TyP4i9wFcUDOwkd/cMuMjSTg"
    },
    "kernelspec": {
      "name": "python3",
      "display_name": "Python 3"
    },
    "language_info": {
      "name": "python"
    }
  },
  "cells": [
    {
      "cell_type": "markdown",
      "source": [
        "1)Faça um programa que possua um vetor denominado A que armazene 6 numeros inteiros. O programa deve executar os seguintes passos: (a) Atribua os seguintes valores a esse vetor: 1, 0, 5, -2, -5, 7. (b) Armazene em uma variavel inteira (simples) a soma entre os valores das posições A[0], A[1] e A[5] do vetor e mostre na tela esta soma. (c) Modifique o vetor na posição 4, atribuindo a esta posição ao o valor 100. ˜ (d) Mostre na tela cada valor do vetor A, um em cada linha.\n",
        "\n"
      ],
      "metadata": {
        "id": "P0SJAcNBiT5B"
      }
    },
    {
      "cell_type": "code",
      "execution_count": null,
      "metadata": {
        "colab": {
          "base_uri": "https://localhost:8080/"
        },
        "id": "Soqg2tIfiLT9",
        "outputId": "fc565280-8d26-451e-dc83-6e816367003a"
      },
      "outputs": [
        {
          "output_type": "stream",
          "name": "stdout",
          "text": [
            "8\n",
            "[  1   0   5  -2 100   7]\n",
            "\n",
            "\n",
            "1\n",
            "0\n",
            "5\n",
            "-2\n",
            "100\n",
            "7\n"
          ]
        }
      ],
      "source": [
        "import numpy as np\n",
        "\n",
        "lista = [1, 0, 5, -2, -5, 7]\n",
        "a = np.array(lista)\n",
        "\n",
        "soma = a[0] + a[1] + a[5]\n",
        "print(soma)\n",
        "\n",
        "a[4] = 100\n",
        "print(a)\n",
        "\n",
        "print(\"\\n\")\n",
        "\n",
        "for i in a:\n",
        "  print(i)"
      ]
    },
    {
      "cell_type": "markdown",
      "source": [
        "2)Crie um programa que leia 6 valores inteiros e, em seguida, mostre na tela os valores lidos.\n",
        "\n"
      ],
      "metadata": {
        "id": "1LklSv5hv03q"
      }
    },
    {
      "cell_type": "code",
      "source": [
        "lista = np.array([])\n",
        "\n",
        "for i in range(6):\n",
        "  lista = np.append(lista, int (input(\"Digite um número inteiro: \")))\n",
        "\n",
        "print(lista\n",
        "      )"
      ],
      "metadata": {
        "id": "xdhzrFF9v1bh"
      },
      "execution_count": null,
      "outputs": []
    },
    {
      "cell_type": "markdown",
      "source": [
        "3)Faça um programa que preencha um vetor com 10 numeros reais, calcule e mostre a quantidade de numeros negativos e a soma dos números positivos desse vetor."
      ],
      "metadata": {
        "id": "I83NAAREv28X"
      }
    },
    {
      "cell_type": "code",
      "source": [
        "import numpy as np\n",
        "\n",
        "vetor = np.array([])\n",
        "soma = 0\n",
        "somap = 0\n",
        "for i in range(10):\n",
        "  vetor = np.append(vetor,float(input(\"Digite um número real: \")))\n",
        "  if vetor[i] < 0:\n",
        "    soma += 1\n",
        "  else:\n",
        "    somap += vetor[i]\n",
        "\n",
        "\n",
        "print(f\"Quantidade de numeros negativos: {soma}\")\n",
        "print(f\"Soma de numeros positivos: {somap}\")"
      ],
      "metadata": {
        "colab": {
          "base_uri": "https://localhost:8080/"
        },
        "id": "xlqtsXdHv3k_",
        "outputId": "80cbaa55-5de8-4852-f139-251232e5a00d"
      },
      "execution_count": null,
      "outputs": [
        {
          "output_type": "stream",
          "name": "stdout",
          "text": [
            "Digite um número real: 5\n",
            "Digite um número real: 6\n",
            "Digite um número real: 4\n",
            "Digite um número real: -6\n",
            "Digite um número real: -8\n",
            "Digite um número real: -9\n",
            "Digite um número real: 0\n",
            "Digite um número real: -9\n",
            "Digite um número real: 10\n",
            "Digite um número real: 55\n",
            "Quantidade de numeros negativos: 4\n",
            "Soma de numeros positivos: 80.0\n"
          ]
        }
      ]
    },
    {
      "cell_type": "code",
      "source": [
        "'''\n",
        "4) Faça um programa que leia um vetor de 8 posições e, em seguida, leia também dois\n",
        "valores X e Y quaisquer correspondentes a duas posições no vetor. Ao final seu programa\n",
        "deverá escrever a soma dos valores encontrados nas respectivas posições X e Y.\n",
        "'''\n",
        "import numpy as pd\n",
        "\n",
        "vetor = pd.array([])\n",
        "\n",
        "for i in range(8):\n",
        "  vetor = pd.append(vetor, float(input(f\"Digite o {i+1}º valor: \")))\n",
        "\n",
        "x = int(input(\"Digite um valor de 0 a 7: \"))\n",
        "y = int(input(\"Digite outro valor de 0 a 7:\"))\n",
        "\n",
        "print(vetor[x])\n",
        "print(vetor[y])\n",
        "\n",
        "soma = vetor[x] + vetor[y]\n",
        "\n",
        "print(f\"A soma dos vetores solicitados é {soma}\")"
      ],
      "metadata": {
        "colab": {
          "base_uri": "https://localhost:8080/"
        },
        "id": "J118tlrXK8F_",
        "outputId": "08a8179b-e2a2-4183-a5b4-4ea1c8955df6"
      },
      "execution_count": null,
      "outputs": [
        {
          "output_type": "stream",
          "name": "stdout",
          "text": [
            "Digite o 1º valor: 8\n",
            "Digite o 2º valor: 20\n",
            "Digite o 3º valor: 66\n",
            "Digite o 4º valor: 44\n",
            "Digite o 5º valor: 0\n",
            "Digite o 6º valor: 2\n",
            "Digite o 7º valor: 8\n",
            "Digite o 8º valor: 21\n",
            "Digite um valor de 0 a 7: 1\n",
            "Digite outro valor de 0 a 7:7\n",
            "20.0\n",
            "21.0\n",
            "A soma dos vetores solicitados é 41.0\n"
          ]
        }
      ]
    },
    {
      "cell_type": "code",
      "source": [
        "'''\n",
        "5) Faça um programa que receba do usuário um vetor com 10 posições. Em seguida deverá\n",
        "ser impresso o maior e o menor elemento do vetor e a posição em que ele se encontra.\n",
        "'''\n",
        "\n",
        "import numpy as np\n",
        "\n",
        "vetor = np.array([])\n",
        "\n",
        "pMaior = 0\n",
        "pMenor = 0\n",
        "\n",
        "for i in range(5):\n",
        "  vetor = np.append(vetor, int(input(f\"Digite o {i+1}º valor: \")))\n",
        "  if vetor[i] > pMaior:\n",
        "    maior = vetor[i]\n",
        "    pMaior = i\n",
        "  elif vetor[i] < pMaior:\n",
        "    menor = vetor[i]\n",
        "    pMenor = i\n",
        "\n",
        "print(f\"O maior valor digitado foi: {max(vetor)} e seu indice é {pMaior}\")\n",
        "print(f\"O menor valor digitados foi: {min(vetor)} e seu indice é {pMenor}\")\n",
        "\n",
        "# TEM QUE ARRUMAR TODO ERRADO\n"
      ],
      "metadata": {
        "colab": {
          "base_uri": "https://localhost:8080/"
        },
        "id": "QB7TfYhrQkgr",
        "outputId": "e29130ad-ce04-4406-b655-77106b44a232"
      },
      "execution_count": null,
      "outputs": [
        {
          "output_type": "stream",
          "name": "stdout",
          "text": [
            "Digite o 1º valor: 8\n",
            "Digite o 2º valor: 2\n",
            "Digite o 3º valor: 3\n",
            "Digite o 4º valor: 99\n",
            "Digite o 5º valor: 4\n",
            "O maior valor digitado foi: 99.0 e seu indice é 4\n",
            "O menor valor digitados foi: 2.0 e seu indice é 0\n"
          ]
        }
      ]
    },
    {
      "cell_type": "code",
      "source": [
        "'''\n",
        "6) Crie um programa que lê 6 valores inteiros e, em seguida, mostre na tela os valores lidos\n",
        "na ordem inversa.\n",
        "'''\n",
        "import numpy as np\n",
        "\n",
        "vetor = np.array([])\n",
        "\n",
        "for i in range(6):\n",
        "  vetor = np.append(vetor, int(input(\"Digite um número inteiro: \")))\n",
        "\n",
        "print(\"\\nValores na ordem inversa:\")\n",
        "for i in reversed(vetor):\n",
        "    print(i)\n"
      ],
      "metadata": {
        "colab": {
          "base_uri": "https://localhost:8080/"
        },
        "id": "cIliwYhOXE_M",
        "outputId": "8f44d9bd-ca55-442a-8177-d45b8bba050f"
      },
      "execution_count": null,
      "outputs": [
        {
          "output_type": "stream",
          "name": "stdout",
          "text": [
            "Digite um número inteiro: 99\n",
            "Digite um número inteiro: 6\n",
            "Digite um número inteiro: 4\n",
            "Digite um número inteiro: 2\n",
            "Digite um número inteiro: 2\n",
            "Digite um número inteiro: 1\n",
            "\n",
            "Valores na ordem inversa:\n",
            "1.0\n",
            "2.0\n",
            "2.0\n",
            "4.0\n",
            "6.0\n",
            "99.0\n"
          ]
        }
      ]
    },
    {
      "cell_type": "code",
      "source": [
        "'''\n",
        "7) Faça um programa que preencha um vetor com 10 números reais, calcule e mostre\n",
        "quantidade de números negativos e a soma dos números positivos desse vetor.\n",
        "'''\n",
        "\n",
        "import numpy as np\n",
        "\n",
        "n = np.array([])\n",
        "pos = 0\n",
        "neg = 0\n",
        "\n",
        "for i in range(10):\n",
        "  n = np.append(n,int(input(f\"Digite o {i+1}º número: \")))\n",
        "  if n[i] >= 0:\n",
        "    pos += n[i]\n",
        "  else:\n",
        "    neg += 1\n",
        "\n",
        "\n",
        "print(f\"A soma dos números psitivos é: {pos}\")\n",
        "print(f\"A quantidade de números negativos é: {neg}\")\n",
        "\n",
        "\n",
        "\n"
      ],
      "metadata": {
        "id": "nBrnu0GckY6l",
        "colab": {
          "base_uri": "https://localhost:8080/"
        },
        "outputId": "1d5588d7-b1ba-4cc6-a4c6-dbdea1545d34"
      },
      "execution_count": null,
      "outputs": [
        {
          "output_type": "stream",
          "name": "stdout",
          "text": [
            "Digite o 1º número: 10\n",
            "Digite o 2º número: 9\n",
            "Digite o 3º número: -9\n",
            "Digite o 4º número: -8\n",
            "Digite o 5º número: -7\n",
            "Digite o 6º número: 0\n",
            "Digite o 7º número: 2\n",
            "Digite o 8º número: 5\n",
            "Digite o 9º número: 6\n",
            "Digite o 10º número: 4\n",
            "A soma dos números psitivos é: 36.0\n",
            "A quantidade de números negativos é: 3\n"
          ]
        }
      ]
    },
    {
      "cell_type": "code",
      "source": [
        "'''\n",
        "8) Faça um programa que leia um vetor de 10 números. Leia um número x.\n",
        "Conte os múltiplos de um número inteiro x num vetor e mostre-os na tela.\n",
        "'''\n",
        "\n",
        "import numpy as np\n",
        "\n",
        "num = np.array([])\n",
        "cont = 0\n",
        "\n",
        "for i in range(10):\n",
        "  num = np.append(num, int(input(f'Digite o {i+1}º número: ')))\n",
        "\n",
        "x = int(input(\"Digite um número qualquer: \"))\n",
        "\n",
        "print(f\"Multiplos do Vetor: {x}\")\n",
        "for j in num:\n",
        "  if j % x == 0:\n",
        "    print(j)\n",
        "    cont += 1\n",
        "\n",
        "\n",
        "if cont == 0:\n",
        "  print(f\"Não foram encontrados multiplos de {x} no vetor.\")\n",
        "\n"
      ],
      "metadata": {
        "colab": {
          "base_uri": "https://localhost:8080/"
        },
        "id": "5rH4qY-CCGJh",
        "outputId": "ce5115e2-05e6-41ee-88db-97c4a51d1a39"
      },
      "execution_count": null,
      "outputs": [
        {
          "output_type": "stream",
          "name": "stdout",
          "text": [
            "Digite o 1º número: 11\n",
            "Digite o 2º número: 22\n",
            "Digite o 3º número: 31\n",
            "Digite o 4º número: 37\n",
            "Digite o 5º número: 5\n",
            "Digite o 6º número: 8\n",
            "Digite o 7º número: 7\n",
            "Digite o 8º número: 4\n",
            "Digite o 9º número: 61\n",
            "Digite o 10º número: 3\n",
            "Digite um número qualquer: 6\n",
            "Multiplos do Vetor: 6\n",
            "Não foram encontrados multiplos de 6 no vetor.\n"
          ]
        }
      ]
    },
    {
      "cell_type": "code",
      "source": [
        "'''\n",
        "9) Faça um vetor de tamanho 50 preenchido com o seguinte valor: (𝑖+ 5 ∗ 𝑖) %(𝑖+ 1),\n",
        "sendo i a posição do elemento no vetor. Em seguida imprima o vetor na tela. ˜\n",
        "'''\n",
        "import numpy as np\n",
        "\n",
        "vetor = np.array([])\n",
        "\n",
        "for i in range(50):\n",
        "  vetor = np.append(vetor,int((i+ 5 * i) % (i+ 1)))\n",
        "  print(vetor[i])\n"
      ],
      "metadata": {
        "colab": {
          "base_uri": "https://localhost:8080/"
        },
        "id": "3LgFmCCBGxno",
        "outputId": "0f823c29-f9ab-4ad3-e68a-34990460256e"
      },
      "execution_count": null,
      "outputs": [
        {
          "output_type": "stream",
          "name": "stdout",
          "text": [
            "0.0\n",
            "0.0\n",
            "0.0\n",
            "2.0\n",
            "4.0\n",
            "0.0\n",
            "1.0\n",
            "2.0\n",
            "3.0\n",
            "4.0\n",
            "5.0\n",
            "6.0\n",
            "7.0\n",
            "8.0\n",
            "9.0\n",
            "10.0\n",
            "11.0\n",
            "12.0\n",
            "13.0\n",
            "14.0\n",
            "15.0\n",
            "16.0\n",
            "17.0\n",
            "18.0\n",
            "19.0\n",
            "20.0\n",
            "21.0\n",
            "22.0\n",
            "23.0\n",
            "24.0\n",
            "25.0\n",
            "26.0\n",
            "27.0\n",
            "28.0\n",
            "29.0\n",
            "30.0\n",
            "31.0\n",
            "32.0\n",
            "33.0\n",
            "34.0\n",
            "35.0\n",
            "36.0\n",
            "37.0\n",
            "38.0\n",
            "39.0\n",
            "40.0\n",
            "41.0\n",
            "42.0\n",
            "43.0\n",
            "44.0\n"
          ]
        }
      ]
    },
    {
      "cell_type": "code",
      "source": [
        "'''\n",
        "10) Escreva um programa que leia números inteiros no intervalo [0,50] e os armazene em um vetor com 10 posições.\n",
        "Preencha um segundo vetor apenas com os números ımpares do primeiro vetor.\n",
        "Imprima os dois vetores, 2 elementos por linha.\n",
        "'''\n",
        "# REFAZER IMPORTANTE\n",
        "\n",
        "import numpy as np\n",
        "\n",
        "\n",
        "v1 = np.array([])\n",
        "v2 = np.array([])\n",
        "\n",
        "print(\"Digite o um número inteiro no intervalo 0 a 50: \")\n",
        "for i in range(10):\n",
        "  while True:\n",
        "    num = int(input())\n",
        "    if num >= 0 and num <= 50:\n",
        "      v1 = np.append(v1,num)\n",
        "      if num % 2 != 0:\n",
        "        v2 = np.append(v2,v1[i])\n",
        "      break\n",
        "    else:\n",
        "      print(\"Número fora do intervalo, digite novamente:\")\n",
        "\n",
        "    # Impressão dos vetores, 2 elementos por linha\n",
        "print(\"\\nVetor 1 (todos os números):\")\n",
        "for i in range(0, len(v1), 2):\n",
        "  print(v1[i:i+2])\n",
        "\n",
        "print(\"\\nVetor 2 (números ímpares):\")\n",
        "for i in range(0, len(v2), 2):\n",
        "  print(v2[i:i+2])"
      ],
      "metadata": {
        "colab": {
          "base_uri": "https://localhost:8080/"
        },
        "id": "VA8ag7LZKYvR",
        "outputId": "a095e2a8-1235-4429-9330-9569b27c6415"
      },
      "execution_count": null,
      "outputs": [
        {
          "output_type": "stream",
          "name": "stdout",
          "text": [
            "Digite o um número inteiro no intervalo 0 a 50: \n",
            "51\n",
            "Número fora do intervalo, digite novamente:\n",
            "20\n",
            "12\n",
            "15\n",
            "17\n",
            "19\n",
            "61\n",
            "Número fora do intervalo, digite novamente:\n",
            "33\n",
            "45\n",
            "41\n",
            "10\n",
            "32\n",
            "\n",
            "Vetor 1 (todos os números):\n",
            "[20. 12.]\n",
            "[15. 17.]\n",
            "[19. 33.]\n",
            "[45. 41.]\n",
            "[10. 32.]\n",
            "\n",
            "Vetor 2 (números ímpares):\n",
            "[15. 17.]\n",
            "[19. 33.]\n",
            "[45. 41.]\n"
          ]
        }
      ]
    },
    {
      "cell_type": "code",
      "source": [
        "'''\n",
        "11) Faça um programa que receba do usuário dois vetores, A e B, com 10 números inteiros cada.\n",
        "Crie um novo vetor denominado C calculando C = A - B. Mostre na tela os dados do vetor C.\n",
        "'''\n",
        "\n",
        "import numpy as np\n",
        "\n",
        "v1 = ([])\n",
        "v2 = ([])\n",
        "v3 = ([])\n",
        "\n",
        "print(\"Para os vetores digite números inteiros\")\n",
        "for i in range(10):\n",
        "  v1 = np.append(v1,int(input(f\"{i+1}º Vetor 1: \")))\n",
        "  v2 = np.append(v2,int(input(f\"{i+1}º Vetor 2: \")))\n",
        "\n",
        "v3 = np.append(v3, v1 - v2)\n",
        "print(f\"Vetor 3 {v3}\")"
      ],
      "metadata": {
        "colab": {
          "base_uri": "https://localhost:8080/"
        },
        "id": "AXJCnexvb3EQ",
        "outputId": "c2ec05bc-204b-4637-ebd5-27295680d9ef"
      },
      "execution_count": null,
      "outputs": [
        {
          "output_type": "stream",
          "name": "stdout",
          "text": [
            "Para os vetores digite números inteiros\n",
            "1º Vetor 1: 12\n",
            "1º Vetor 2: 13\n",
            "2º Vetor 1: 44\n",
            "2º Vetor 2: 33\n",
            "3º Vetor 1: 14\n",
            "3º Vetor 2: 77\n",
            "4º Vetor 1: 13\n",
            "4º Vetor 2: 15\n",
            "5º Vetor 1: 16\n",
            "5º Vetor 2: 48\n",
            "6º Vetor 1: 66\n",
            "6º Vetor 2: 44\n",
            "7º Vetor 1: 55\n",
            "7º Vetor 2: 75\n",
            "8º Vetor 1: 14\n",
            "8º Vetor 2: 10\n",
            "9º Vetor 1: 19\n",
            "9º Vetor 2: 18\n",
            "10º Vetor 1: 33\n",
            "10º Vetor 2: 25\n",
            "[ -1.  11. -63.  -2. -32.  22. -20.   4.   1.   8.]\n"
          ]
        }
      ]
    },
    {
      "cell_type": "code",
      "source": [
        "'''\n",
        "12) Faça um programa que leia dois vetores de 10 posições e calcule outro vetor contendo\n",
        "nas posições pares os valores do primeiro e nas posições impares os valores do segundo.\n",
        "'''\n",
        "\n",
        "import numpy as np\n",
        "\n"
      ],
      "metadata": {
        "id": "_8vlCWS0rQFw"
      },
      "execution_count": null,
      "outputs": []
    }
  ]
}