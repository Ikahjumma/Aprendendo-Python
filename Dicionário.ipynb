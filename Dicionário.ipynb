{
  "nbformat": 4,
  "nbformat_minor": 0,
  "metadata": {
    "colab": {
      "provenance": [],
      "authorship_tag": "ABX9TyNgM6/AHe7vrcQkUgd/gUuS"
    },
    "kernelspec": {
      "name": "python3",
      "display_name": "Python 3"
    },
    "language_info": {
      "name": "python"
    }
  },
  "cells": [
    {
      "cell_type": "code",
      "execution_count": null,
      "metadata": {
        "colab": {
          "base_uri": "https://localhost:8080/"
        },
        "id": "_y3ZAbTWOevI",
        "outputId": "b0f726fe-0949-4ebf-8014-87ba1b70f25c"
      },
      "outputs": [
        {
          "output_type": "stream",
          "name": "stdout",
          "text": [
            "1\n",
            "[1000, 2, 3]\n",
            "[1000, 2, 3, 2000]\n",
            "[1000, 2, 3000, 3, 2000]\n",
            "<class 'list'>\n"
          ]
        }
      ],
      "source": [
        "Lista = [1,2,3]\n",
        "\n",
        "print(Lista[0])\n",
        "\n",
        "Lista[0] = 1000 #alterar elemento na lista que já estava cadastrado\n",
        "print(Lista)\n",
        "\n",
        "Lista.append(2000) #acrescentar elemento na lista, no final da lista\n",
        "print(Lista)\n",
        "\n",
        "Lista.insert(2, 3000) #acrescentar elemento em um lugar expecifico, pelo index\n",
        "print(Lista)\n",
        "\n",
        "Exemplo = (\"teste\", 1,2,3)\n",
        "\n",
        "E = list(Exemplo)\n",
        "print(type(E))"
      ]
    },
    {
      "cell_type": "code",
      "source": [
        "# TUPLA\n",
        "# Estrutura mais leve, serve para pequenas sequencias\n",
        "\n",
        "frutas = (\"banana\", \"abacaxi\", \"acerola\", \"laranja\")\n",
        "print(type(frutas))\n",
        "\n",
        "print(frutas[2])\n",
        "\n",
        "print(sorted(frutas)) #ordenar Tupla\n",
        "\n",
        "# erro a tupla não pode ser alterada frutas[0] = \"uva\""
      ],
      "metadata": {
        "id": "VqLYkn2BSkE5"
      },
      "execution_count": null,
      "outputs": []
    },
    {
      "cell_type": "code",
      "source": [
        "# Dicionário -> chaves {}\n",
        "# chaves {}\n",
        "# chave: valor\n",
        "# chave não pode duplicar\n",
        "# valor pode duplicar\n",
        "\n",
        "estoque = {\"banana\": \"3 dúzias\",\n",
        "           \"laranja\": \"10 quilos\",\n",
        "           \"mamão\": \"15 unidades\",\n",
        "           }\n",
        "\n",
        "print(type(estoque))\n",
        "\n",
        "print(estoque)\n",
        "\n",
        "# print(estoque[1]) não trabalha com índice, o índice é dado pela chave\n",
        "print(estoque['laranja'])\n",
        "print(f\"Mamão = {estoque['mamão']}\")\n",
        "\n",
        "# Imprimir o dicionário na vertical\n",
        "for fruta in estoque.keys(): # traz a chave\n",
        "  print(fruta)\n",
        "\n",
        "for fruta in estoque.values(): #traz a informação/item\n",
        "  print(fruta)\n",
        "\n",
        "for fruta in estoque.items(): # traz a chave e o item/informação\n",
        "  print(fruta)\n",
        "\n",
        "print(estoque.values())"
      ],
      "metadata": {
        "colab": {
          "base_uri": "https://localhost:8080/"
        },
        "id": "N1VGfc7WTp5I",
        "outputId": "7159ef06-d13e-4e5c-b911-9ef4a2720832"
      },
      "execution_count": null,
      "outputs": [
        {
          "output_type": "stream",
          "name": "stdout",
          "text": [
            "<class 'dict'>\n",
            "{'banana': '3 dúzias', 'laranja': '10 quilos', 'mamão': '15 unidades'}\n",
            "10 quilos\n",
            "Mamão = 15 unidades\n",
            "banana\n",
            "laranja\n",
            "mamão\n",
            "3 dúzias\n",
            "10 quilos\n",
            "15 unidades\n",
            "('banana', '3 dúzias')\n",
            "('laranja', '10 quilos')\n",
            "('mamão', '15 unidades')\n",
            "dict_values(['3 dúzias', '10 quilos', '15 unidades'])\n"
          ]
        }
      ]
    },
    {
      "cell_type": "code",
      "source": [
        "estoque = {\"banana\": \"3 dúzias\",\n",
        "           \"laranja\": \"10 quilos\",\n",
        "           \"mamão\": \"15 unidades\",\n",
        "           }\n",
        "\n",
        "#alterar elemento do dicionário\n",
        "estoque['banana'] = \"300 dúzias\"\n",
        "\n",
        "print(estoque)\n",
        "\n"
      ],
      "metadata": {
        "colab": {
          "base_uri": "https://localhost:8080/"
        },
        "id": "iAlqv8uSatCr",
        "outputId": "94a55fe9-fde4-41c4-ba39-e236f258a79b"
      },
      "execution_count": null,
      "outputs": [
        {
          "output_type": "stream",
          "name": "stdout",
          "text": [
            "{'banana': '300 dúzias', 'laranja': '10 quilos', 'mamão': '15 unidades'}\n"
          ]
        }
      ]
    },
    {
      "cell_type": "code",
      "source": [
        "estoque = {\"banana\": \"3 dúzias\",\n",
        "           \"laranja\": \"10 quilos\",\n",
        "           \"mamão\": \"15 unidades\",\n",
        "           \"laranja\": \"1/2 quilo\"\n",
        "           }\n",
        "\n",
        "# Quando a chave duplica ele sobrescreve o valor\n",
        "print(estoque)\n",
        "\n",
        "# Incluindo uma nova frura\n",
        "# lembrar dicionário: dicionário[chave] = valor <- para chaves novas\n",
        "estoque['pitaya'] = \"1 unidade\"\n",
        "print(estoque)\n",
        "\n",
        "estoque[\"pitaya\"] = \"1000 unidades\"\n",
        "print(estoque)\n",
        "\n",
        "#pegando a quantidade de fruta e armazenando numa variável de memória\n",
        "qtd = estoque[\"pitaya\"]\n",
        "print(qtd)\n",
        "\n",
        "qtd = estoque.get(\"pitaya\")\n",
        "print(qtd)"
      ],
      "metadata": {
        "colab": {
          "base_uri": "https://localhost:8080/"
        },
        "id": "1YXV85SBbfin",
        "outputId": "51c7349e-0321-4115-f872-21c0858f8033"
      },
      "execution_count": null,
      "outputs": [
        {
          "output_type": "stream",
          "name": "stdout",
          "text": [
            "{'banana': '3 dúzias', 'laranja': '1/2 quilo', 'mamão': '15 unidades'}\n",
            "{'banana': '3 dúzias', 'laranja': '1/2 quilo', 'mamão': '15 unidades', 'pitaya': '1 unidade'}\n",
            "{'banana': '3 dúzias', 'laranja': '1/2 quilo', 'mamão': '15 unidades', 'pitaya': '1000 unidades'}\n",
            "1000 unidades\n",
            "1000 unidades\n"
          ]
        }
      ]
    },
    {
      "cell_type": "code",
      "source": [
        "fruta = {\"manga\": 3,\n",
        "         \"carambola\": 100,\n",
        "         \"limão\": 50,\n",
        "         'figo': 10\n",
        "         }\n",
        "\n",
        "qtd = fruta.get(\"figo\")\n",
        "print(qtd)\n",
        "\n",
        "fruta[\"figo\"] = fruta.get(\"figo\") + 1000\n",
        "print(fruta)\n",
        "\n",
        "frutaUsu = input(\"Digite uma fruta: \")\n",
        "qtdUso = int(input(\"Quantidade: \"))\n",
        "\n",
        "if frutaUsu in fruta:\n",
        "  fruta[frutaUsu] = fruta.get(frutaUsu) + qtdUso #verifica se a fruta já está cadastrada e se estiver soma o valor antigo com o novo\n",
        "else:\n",
        "  fruta[frutaUsu] = qtdUso #senão tiver cadastrada ele cria a nova chave\n",
        "  # fruta[\"xxx\"] = 10\n",
        "\n",
        "print(fruta)"
      ],
      "metadata": {
        "colab": {
          "base_uri": "https://localhost:8080/"
        },
        "id": "QisX7xMSd_EA",
        "outputId": "37e097b8-8032-4a6b-9caf-ef645b5cf6a1"
      },
      "execution_count": null,
      "outputs": [
        {
          "output_type": "stream",
          "name": "stdout",
          "text": [
            "10\n",
            "{'manga': 3, 'carambola': 100, 'limão': 50, 'figo': 1010}\n",
            "Digite uma fruta: limão\n",
            "Quantidade: 60\n",
            "{'manga': 3, 'carambola': 100, 'limão': 110, 'figo': 1010}\n"
          ]
        }
      ]
    },
    {
      "cell_type": "code",
      "source": [
        "frase = input(\"Digite uma frase para contar as letras: \")\n",
        "d = {} #dicionario vazio\n",
        "\n",
        "for letra in frase:\n",
        "  if letra in d:\n",
        "    d[letra] = d[letra] + 1\n",
        "  else:\n",
        "    d[letra] = 1\n",
        "\n",
        "print(d)"
      ],
      "metadata": {
        "colab": {
          "base_uri": "https://localhost:8080/"
        },
        "id": "W50NGudEp91Q",
        "outputId": "a5709d55-b9a2-42a9-c380-15ef3c16a3e5"
      },
      "execution_count": null,
      "outputs": [
        {
          "output_type": "stream",
          "name": "stdout",
          "text": [
            "Digite uma frase para contar as letras: Estamos estudando bastante\n",
            "{'E': 1, 's': 4, 't': 4, 'a': 4, 'm': 1, 'o': 2, ' ': 2, 'e': 2, 'u': 1, 'd': 2, 'n': 2, 'b': 1}\n"
          ]
        }
      ]
    },
    {
      "cell_type": "code",
      "source": [
        "estoque = {'tomate': [1000, 2.3],\n",
        "           \"alface\": [500, .45],\n",
        "           \"batata\": [2001, 1.20],\n",
        "           \"feijão\": [100, 1.50]\n",
        "           }\n",
        "\n",
        "print(estoque)\n",
        "print(estoque['alface'][0]) #quantidade\n",
        "estoque[\"laranja\"] = [200, 1.5]\n",
        "print(estoque)\n",
        "\n",
        "#preço do feijão\n",
        "print(f\"Preço do Feijão: {estoque['feijão'][1]}\")\n"
      ],
      "metadata": {
        "colab": {
          "base_uri": "https://localhost:8080/"
        },
        "id": "IgW29PQ8vKih",
        "outputId": "f1e96a7d-6a2c-4b53-fa6a-3fbb74008b55"
      },
      "execution_count": null,
      "outputs": [
        {
          "output_type": "stream",
          "name": "stdout",
          "text": [
            "{'tomate': [1000, 2.3], 'alface': [500, 0.45], 'batata': [2001, 1.2], 'feijão': [100, 1.5]}\n",
            "500\n",
            "{'tomate': [1000, 2.3], 'alface': [500, 0.45], 'batata': [2001, 1.2], 'feijão': [100, 1.5], 'laranja': [200, 1.5]}\n",
            "Preço do Feijão: 1.5\n"
          ]
        }
      ]
    },
    {
      "cell_type": "code",
      "source": [
        "'''''\n",
        "teste\n",
        "'''''\n",
        "estoque = {'tomate': [1000, 2.3],\n",
        "           \"alface\": [500, .45],\n",
        "           \"batata\": [2001, 1.20],\n",
        "           \"feijão\": [100, 1.50]\n",
        "           }\n",
        "\n",
        "print(estoque)\n",
        "print(estoque['alface'][0]) #quantidade\n",
        "\n",
        "estoque['tomate'] = [11984603332, 223333]\n",
        "\n",
        "print(estoque[\"tomate\"])"
      ],
      "metadata": {
        "colab": {
          "base_uri": "https://localhost:8080/"
        },
        "id": "9DodgU_M4CA_",
        "outputId": "eb6a3d78-eed4-457c-aaa5-7b92738b88cd"
      },
      "execution_count": null,
      "outputs": [
        {
          "output_type": "stream",
          "name": "stdout",
          "text": [
            "{'tomate': [1000, 2.3], 'alface': [500, 0.45], 'batata': [2001, 1.2], 'feijão': [100, 1.5]}\n",
            "500\n",
            "[11984603332, 223333]\n"
          ]
        }
      ]
    }
  ]
}