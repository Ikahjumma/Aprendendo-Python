{
  "nbformat": 4,
  "nbformat_minor": 0,
  "metadata": {
    "colab": {
      "provenance": [],
      "authorship_tag": "ABX9TyMTgHguG3XtsNchJJrm8xmG"
    },
    "kernelspec": {
      "name": "python3",
      "display_name": "Python 3"
    },
    "language_info": {
      "name": "python"
    }
  },
  "cells": [
    {
      "cell_type": "markdown",
      "source": [
        "Lista é uma colação ordenada de valores, separados por vígula e dentro de colchete.Armazena-se diversos itens em uma única variável."
      ],
      "metadata": {
        "id": "cOz-y8KJM5Wa"
      }
    },
    {
      "cell_type": "code",
      "execution_count": null,
      "metadata": {
        "colab": {
          "base_uri": "https://localhost:8080/"
        },
        "id": "5zeWD6DnIzsx",
        "outputId": "5919122e-de9b-4528-91a2-73aa71003f1e"
      },
      "outputs": [
        {
          "output_type": "stream",
          "name": "stdout",
          "text": [
            "['Linguagem C', 'Python', 'Cobol']\n",
            "[1, 2, 3, 4, 'banana', 'maça', True]\n"
          ]
        },
        {
          "output_type": "execute_result",
          "data": {
            "text/plain": [
              "list"
            ]
          },
          "metadata": {},
          "execution_count": 1
        }
      ],
      "source": [
        "Lista = ['Linguagem C', 'Python', 'Cobol']\n",
        "print(Lista)\n",
        "Lista = [1,2,3,4, 'banana', 'maça', True]\n",
        "print(Lista)\n",
        "type(Lista)\n"
      ]
    },
    {
      "cell_type": "markdown",
      "source": [
        "Criando uma lista a partir da função list()"
      ],
      "metadata": {
        "id": "KAPHnc8rNxeK"
      }
    },
    {
      "cell_type": "code",
      "source": [
        "Lista = list(range(10,21,2))\n",
        "# range (Valor inicial, Valor Final, Passo)\n",
        "print(Lista)\n"
      ],
      "metadata": {
        "colab": {
          "base_uri": "https://localhost:8080/"
        },
        "id": "Pq1NtTNCNvIL",
        "outputId": "ad52671e-4b0a-4691-dd35-059dd0c10186"
      },
      "execution_count": null,
      "outputs": [
        {
          "output_type": "stream",
          "name": "stdout",
          "text": [
            "[10, 12, 14, 16, 18, 20]\n"
          ]
        }
      ]
    },
    {
      "cell_type": "code",
      "source": [
        "#Acessando as informações da Lista\n",
        "\n",
        "Lista = ['a', 'b', 'c', 'd']\n",
        "print(Lista[0])\n",
        "print(Lista[3])\n",
        "#print(Lista[4])\n",
        "\n"
      ],
      "metadata": {
        "colab": {
          "base_uri": "https://localhost:8080/"
        },
        "id": "woYN6gkbPP1C",
        "outputId": "ce355a1b-1069-4e36-bd25-2e0500fb6319"
      },
      "execution_count": null,
      "outputs": [
        {
          "output_type": "stream",
          "name": "stdout",
          "text": [
            "a\n",
            "d\n"
          ]
        }
      ]
    },
    {
      "cell_type": "code",
      "source": [
        "itens = [1, 2, 4, ['banana', 'uva',], 'Maria']\n",
        "\n",
        "print(itens)\n",
        "print(itens[1])\n",
        "print(itens[3]) #imprime ['banana', 'uva',] <-sublista\n",
        "print(itens[4])\n",
        "\n",
        "#print(itens[10]) ERRO\n",
        "\n",
        "print(itens[3][1]) # 'uva'\n",
        "\n",
        "print(itens[-1]) #imprime o último item da lista\n",
        "\n"
      ],
      "metadata": {
        "colab": {
          "base_uri": "https://localhost:8080/"
        },
        "id": "pHvfhNXhQNTC",
        "outputId": "92979fcf-31c1-42af-e7ea-f503822887f3"
      },
      "execution_count": null,
      "outputs": [
        {
          "output_type": "stream",
          "name": "stdout",
          "text": [
            "[1, 2, 4, ['banana', 'uva'], 'Maria']\n",
            "2\n",
            "['banana', 'uva']\n",
            "Maria\n",
            "uva\n",
            "Maria\n"
          ]
        }
      ]
    },
    {
      "cell_type": "code",
      "source": [
        "#Acessando o último item da lista - com indexação negativa\n",
        "\n",
        "Lista = ['a', 'b', 'c', 'd']\n",
        "print(Lista[-1], Lista[3], Lista[-2])\n",
        "\n",
        "#Acrescentando um elemento a lista\n",
        "#métodos lembrar da FILA append() - final da lista\n",
        "\n",
        "Lista.append('e')\n",
        "print(Lista)\n",
        "\n",
        "Lista.insert(0, 'x') #insert escolhe a posição do que você quer colocar na lista\n",
        "print(Lista)\n"
      ],
      "metadata": {
        "colab": {
          "base_uri": "https://localhost:8080/"
        },
        "id": "uHmvOqQTVJvI",
        "outputId": "5398881d-e0f8-4ed3-adbf-3180d2b85a3e"
      },
      "execution_count": null,
      "outputs": [
        {
          "output_type": "stream",
          "name": "stdout",
          "text": [
            "d d c\n",
            "['a', 'b', 'c', 'd', 'e']\n",
            "['x', 'a', 'b', 'c', 'd', 'e']\n"
          ]
        }
      ]
    },
    {
      "cell_type": "code",
      "source": [
        "# Vamos cadastrar o nome de 5 pessoas\n",
        "\n",
        "pessoas = []\n",
        "\n",
        "for contador in range(1,6):\n",
        "  pessoas.append(input(f\"Digite o {contador}º nome: \"))\n",
        "\n",
        "print(pessoas)\n",
        "\n"
      ],
      "metadata": {
        "colab": {
          "base_uri": "https://localhost:8080/"
        },
        "id": "Iv8L3jZ2WPXo",
        "outputId": "6702134a-4dc2-40f0-bece-6049a1fff91c"
      },
      "execution_count": null,
      "outputs": [
        {
          "output_type": "stream",
          "name": "stdout",
          "text": [
            "Digite o 1º nome: a\n",
            "Digite o 2º nome: b\n",
            "Digite o 3º nome: c\n",
            "Digite o 4º nome: d\n",
            "Digite o 5º nome: e\n",
            "['a', 'b', 'c', 'd', 'e']\n"
          ]
        }
      ]
    },
    {
      "cell_type": "code",
      "source": [
        "pessoas = ['Teresa', 'Maria', 'Zilda', 'Marcos', 'Lara']\n",
        "\n",
        "for indice, valor in enumerate(pessoas):\n",
        "  print(f\"Índice = {indice} Valor = {valor}\")\n",
        "\n",
        "pessoas.sort() #ordem crescente a -> z\n",
        "print(pessoas)\n",
        "\n",
        "pessoas.sort(reverse = True) #ordem decrescente z -> a\n",
        "print(pessoas)\n",
        "\n"
      ],
      "metadata": {
        "colab": {
          "base_uri": "https://localhost:8080/"
        },
        "id": "WTnJj0D4cZJ4",
        "outputId": "b37d04ff-a7c6-4e68-cbe8-b6b85b66e882"
      },
      "execution_count": null,
      "outputs": [
        {
          "output_type": "stream",
          "name": "stdout",
          "text": [
            "Índice = 0 Valor = Teresa\n",
            "Índice = 1 Valor = Maria\n",
            "Índice = 2 Valor = Zilda\n",
            "Índice = 3 Valor = Marcos\n",
            "Índice = 4 Valor = Lara\n",
            "['Lara', 'Marcos', 'Maria', 'Teresa', 'Zilda']\n",
            "['Zilda', 'Teresa', 'Maria', 'Marcos', 'Lara']\n"
          ]
        }
      ]
    },
    {
      "cell_type": "code",
      "source": [
        "pessoas = ['Teresa', 'Maria', 'Zilda', 'Marcos', 'Lara']\n",
        "\n",
        "# Tamanha da Lista len\n",
        "print(len(pessoas))\n",
        "\n",
        "# Removendo itens da lista\n",
        " # pelo indice - > método pop()\n",
        " # pelo conteúdo -> método remove()\n",
        "\n",
        "pessoas.pop(0)\n",
        "print(pessoas)\n",
        "\n",
        "pessoas.remove('Marcos')\n",
        "print(pessoas)\n"
      ],
      "metadata": {
        "colab": {
          "base_uri": "https://localhost:8080/"
        },
        "id": "Xx6_Nyq8hlLo",
        "outputId": "65f802e1-715c-4bb8-b90a-1b44ab255da5"
      },
      "execution_count": null,
      "outputs": [
        {
          "output_type": "stream",
          "name": "stdout",
          "text": [
            "5\n",
            "['Maria', 'Zilda', 'Marcos', 'Lara']\n",
            "['Maria', 'Zilda', 'Lara']\n"
          ]
        }
      ]
    },
    {
      "cell_type": "code",
      "source": [
        "# 1) Criar um programa em python que solicite ao usuário o nome de 5 pessoas, armazene em uma lista e exiba os nomes digitados e o tamanho da lista.\n",
        "# Em seguida, o programa deve solicitar ao usuário um nome, e o programa deverá remover o nome armazenado na lista, exibir os nomes digitados e o tamanho da lista\n",
        "\n",
        "nomes = []\n",
        "\n",
        "for cont in range(1,6):\n",
        "  nomes.append(input(\"Digite um nome:\"))\n",
        "print(nomes)\n",
        "print(len(nomes))\n",
        "\n",
        "remover = input(\"Digite um nome para remover: \")\n",
        "nomes.remove(remover)\n",
        "\n",
        "print(nomes)\n",
        "print(len(nomes))"
      ],
      "metadata": {
        "colab": {
          "base_uri": "https://localhost:8080/"
        },
        "id": "QTs12fw8jDGX",
        "outputId": "16ac56dd-544c-4227-fcc6-ef62496ffa78"
      },
      "execution_count": null,
      "outputs": [
        {
          "output_type": "stream",
          "name": "stdout",
          "text": [
            "Digite um nome:a\n",
            "Digite um nome:b\n",
            "Digite um nome:c\n",
            "Digite um nome:d\n",
            "Digite um nome:e\n",
            "['a', 'b', 'c', 'd', 'e']\n",
            "5\n",
            "Digite um nome para remover: d\n",
            "['a', 'b', 'c', 'e']\n",
            "4\n"
          ]
        }
      ]
    },
    {
      "cell_type": "code",
      "source": [
        "# 2) Faça um programa em python que calcule a media de um aluno a partir de cinco notas previamente armazenadas em uma lista.\n",
        "# utiliza: notas =[6, 7, 6.5, 4.8, 8]\n",
        "\n",
        "notas = [6, 7, 6.5, 4.8, 8]\n",
        "\n",
        "soma = sum(notas)\n",
        "\n",
        "media = soma / 5\n",
        "\n",
        "print(f\"A média dos números é {media:.1f}\")\n"
      ],
      "metadata": {
        "colab": {
          "base_uri": "https://localhost:8080/"
        },
        "id": "QiWGCjd4jyCY",
        "outputId": "ee410b47-ad17-4bf8-990e-64fb6288e22c"
      },
      "execution_count": null,
      "outputs": [
        {
          "output_type": "stream",
          "name": "stdout",
          "text": [
            "A média dos números é 6.5\n"
          ]
        }
      ]
    },
    {
      "cell_type": "code",
      "source": [
        "# 3) Criar um programa em python que solicite ao usuario nomes de 5 pessoas e armazenar em uma lista.\n",
        "# Em seguida, o programa deve classificar os nomes de modo ascendente e solicitar ao usuário um número de 0 a 4, correspondendo ao indice,\n",
        "# e o programa deverá mostrar o nome armazenado nesse indice\n",
        "\n",
        "nomes = []\n",
        "\n",
        "for cont in range(1,6):\n",
        "  nomes.append(input(\"Digite um nome:\"))\n",
        "print(nomes)\n",
        "\n",
        "nomes.sort()\n",
        "print(nomes)\n",
        "\n",
        "numero = int(input(\"Digite um número [0 a 4]\"))\n",
        "print(nomes[numero])\n",
        "\n"
      ],
      "metadata": {
        "colab": {
          "base_uri": "https://localhost:8080/"
        },
        "id": "z_0kqYuykPfm",
        "outputId": "c40b99fa-131a-48e6-f84f-b07fa4222b38"
      },
      "execution_count": null,
      "outputs": [
        {
          "output_type": "stream",
          "name": "stdout",
          "text": [
            "Digite um nome:a\n",
            "Digite um nome:g\n",
            "Digite um nome:j\n",
            "Digite um nome:t\n",
            "Digite um nome:e\n",
            "['a', 'g', 'j', 't', 'e']\n",
            "['a', 'e', 'g', 'j', 't']\n",
            "Digite um número [0 a 4]4\n",
            "t\n"
          ]
        }
      ]
    },
    {
      "cell_type": "code",
      "source": [
        "teste = (1, 2, 3) + (4, 5, 6)\n",
        "\n",
        "print(teste)\n"
      ],
      "metadata": {
        "id": "7fevwnNgYRzw",
        "outputId": "522a482c-ca76-40ab-c0cf-ce214166fa38",
        "colab": {
          "base_uri": "https://localhost:8080/"
        }
      },
      "execution_count": null,
      "outputs": [
        {
          "output_type": "stream",
          "name": "stdout",
          "text": [
            "(1, 2, 3, 4, 5, 6)\n"
          ]
        }
      ]
    }
  ]
}