{
  "nbformat": 4,
  "nbformat_minor": 0,
  "metadata": {
    "colab": {
      "provenance": [],
      "authorship_tag": "ABX9TyMqmGqjku1VfpVXeIz7vqvD"
    },
    "kernelspec": {
      "name": "python3",
      "display_name": "Python 3"
    },
    "language_info": {
      "name": "python"
    }
  },
  "cells": [
    {
      "cell_type": "code",
      "execution_count": null,
      "metadata": {
        "colab": {
          "base_uri": "https://localhost:8080/"
        },
        "id": "lykhmDEJ-_N_",
        "outputId": "362ecb63-c7e3-42b3-da05-4933b3171814"
      },
      "outputs": [
        {
          "name": "stdout",
          "output_type": "stream",
          "text": [
            "Digite sua idade: 17\n"
          ]
        }
      ],
      "source": [
        "idade = int (input (\"Digite sua idade: \"))\n",
        "\n",
        "#Se a idade for maior ou igual a 18 dar a mensagem: ADULTO\n",
        "\n",
        "#Estrutura de decisão simples\n",
        "if idade >= 18:\n",
        "  print(\"Adulto\")\n"
      ]
    },
    {
      "cell_type": "code",
      "source": [
        "TemSono = input (\"Está com sono? [s/n] \")\n",
        "\n",
        "\n",
        "#Estrutura Composta\n",
        "if TemSono == 's':\n",
        "  print(\"Mantenha-se Acordado!!!\")\n",
        "else:\n",
        "  print(\"Continue assim =D\")"
      ],
      "metadata": {
        "colab": {
          "base_uri": "https://localhost:8080/"
        },
        "id": "to376LqPGGLl",
        "outputId": "25852c02-688c-44a4-9370-bccd25378895"
      },
      "execution_count": null,
      "outputs": [
        {
          "output_type": "stream",
          "name": "stdout",
          "text": [
            "Está com sono? [s/n] n\n",
            "Continue assim =D\n"
          ]
        }
      ]
    },
    {
      "cell_type": "code",
      "source": [
        "# 1 Criar um programa que receba 3 notas. Calcule a média aritmética.\n",
        "#Se a média for >=7 o aluno estará aprovado, caso contrário o aluno estará reprovado.\n",
        "\n",
        "nota1 = float ( input (\"Digite a primeira nota: \"))\n",
        "nota2 = float ( input (\"Digite a segunda nota: \"))\n",
        "nota3 = float ( input (\"Digite a terceira nota: \"))\n",
        "\n",
        "media = (nota1 + nota2 + nota3) / 3\n",
        "\n",
        "print(\"Sua media %.1f\" %media)\n",
        "\n",
        "if media >= 7:\n",
        "  print(\"Sua media %.1f APROVADO\" %media)\n",
        "else:\n",
        "  print(\"Sua media é %.1f REPROVADO\" %media)"
      ],
      "metadata": {
        "colab": {
          "base_uri": "https://localhost:8080/"
        },
        "id": "OPjxeOuWJM6P",
        "outputId": "52598c41-83fc-4426-970e-bf1ce4dd90d9"
      },
      "execution_count": null,
      "outputs": [
        {
          "output_type": "stream",
          "name": "stdout",
          "text": [
            "Digite a primeira nota: 3\n",
            "Digite a segunda nota: 4\n",
            "Digite a terceira nota: 5\n",
            "Sua media 4.00\n",
            "Sua media é 4.0 REPROVADO\n"
          ]
        }
      ]
    },
    {
      "cell_type": "code",
      "source": [
        "# 5 Escreva um programa que pergunte o salário do funcionario e calcule o valor do aumento.\n",
        "#para salarios superiores a 1.250,00, calcule um aumento de 10%. Para os inferiores ou iguais, de 15%. calcular o aumento e o novo salario.\n",
        "#imprimir o aumento e o novo salario\n",
        "\n",
        "salario = float (input (\"Informe seu salário: \"))\n",
        "\n",
        "if salario > 1250.00:\n",
        "  Aum = salario * 0.1\n",
        "\n",
        "else:\n",
        "  Aum = salario * .15\n",
        "\n",
        "Nsal = salario + Aum\n",
        "print(\"Salário atual: %.2f \" %salario)\n",
        "print(\"O aumento foi de %.2f\" %Aum)\n",
        "print(\"Novo salário é %.2f \" %Nsal)\n"
      ],
      "metadata": {
        "colab": {
          "base_uri": "https://localhost:8080/"
        },
        "id": "8_cmRSS0RmEA",
        "outputId": "9ea50b63-48d7-4f3e-ffd1-ba60c23063fa"
      },
      "execution_count": null,
      "outputs": [
        {
          "output_type": "stream",
          "name": "stdout",
          "text": [
            "Informe seu salário: 2000\n",
            "Salário atual: 2000.00 \n",
            "O aumento foi de 200.00\n",
            "Novo salário é 2200.00 \n"
          ]
        }
      ]
    },
    {
      "cell_type": "code",
      "source": [
        "# 2 Faça um programa que peça dois números inteiros. Imprima a soma desses dois números na tela.\n",
        "\n",
        "numero1 = int (input (\"Digite um número inteiro:\"))\n",
        "numero2 = int (input (\"Digite outro número inteiro: \"))\n",
        "\n",
        "soma = numero1 + numero2\n",
        "\n",
        "print(\"A soma dos números digitados é %.f\" %soma)\n"
      ],
      "metadata": {
        "colab": {
          "base_uri": "https://localhost:8080/"
        },
        "id": "84Nb988xaJCC",
        "outputId": "abc461ac-8a51-42f1-90b6-f4f5e5800e49"
      },
      "execution_count": null,
      "outputs": [
        {
          "output_type": "stream",
          "name": "stdout",
          "text": [
            "Digite um número inteiro:100\n",
            "Digite outro número inteiro: 66\n",
            "A soma dos números digitados é 166\n"
          ]
        }
      ]
    },
    {
      "cell_type": "code",
      "source": [
        "# 3 Escreva um programa que leia um valor em metros e o exiba convertido em milímetros\n",
        "\n",
        "valor = float (input(\"Digite um número em metros: \"))\n",
        "\n",
        "valorMilimetro = valor * 1000\n",
        "\n",
        "print(\"O valor digitado em milímetros é %.fmm\" %valorMilimetro)\n"
      ],
      "metadata": {
        "colab": {
          "base_uri": "https://localhost:8080/"
        },
        "id": "aibU319Sa14i",
        "outputId": "4f422623-14b6-480e-af1e-c1f15abc0200"
      },
      "execution_count": null,
      "outputs": [
        {
          "output_type": "stream",
          "name": "stdout",
          "text": [
            "Digite um valor em metros: 8\n",
            "O valor digitado em milimetros é 8000mm\n"
          ]
        }
      ]
    },
    {
      "cell_type": "code",
      "source": [
        "# 4 Escreva um programa que leia a quantidade de dias, horas, minutos e segundos do usuário. Calcule o total em segundos.\n",
        "\n",
        "dia = int (input (\"Informe o número de dias: \"))\n",
        "hora = int (input (\"Informe a hora: \"))\n",
        "minuto = int (input (\"Informe os minutos: \"))\n",
        "segundo = int (input (\"Informe os segundos: \"))\n",
        "\n",
        "totalDias = dia * 24 * 60 * 60\n",
        "totalHora = hora * 60 * 60\n",
        "totalMinuto = minuto * 60\n",
        "\n",
        "total = totalDias + totalHora + totalMinuto + segundo\n",
        "\n",
        "print(\"O total de Segundos é %.f\" %total)"
      ],
      "metadata": {
        "colab": {
          "base_uri": "https://localhost:8080/"
        },
        "id": "7Auldlcha3Y6",
        "outputId": "dc9cda20-ac6f-4e5f-89a8-b2c078296de8"
      },
      "execution_count": null,
      "outputs": [
        {
          "output_type": "stream",
          "name": "stdout",
          "text": [
            "Informe o número de dias: 9490\n",
            "Informe a hora: 0\n",
            "Informe os minutos: 0\n",
            "Informe os segundos: 0\n",
            "O total de Segundos é 819936000\n"
          ]
        }
      ]
    }
  ]
}