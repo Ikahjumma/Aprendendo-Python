{
  "cells": [
    {
      "cell_type": "code",
      "execution_count": null,
      "metadata": {
        "id": "-vI1jlGS_K5j"
      },
      "outputs": [],
      "source": [
        "# 1 Faça um programa que peça uma nota, entre zero e dez.\n",
        "# Mostre uma mensagem caso o valor seja inválido e continue pedindo até que o usuário informe um valor válido.\n",
        "\n",
        "nota = float(input(\"Digite uma nota [0 a 10]: \"))\n",
        "\n",
        "while (nota > 10) or (nota < 0):\n",
        "    print(\"Valor inválido, tente novamente!\")\n",
        "    nota = float(input(\"Digite uma nota [0 a 10]: \"))\n",
        "\n"
      ]
    },
    {
      "cell_type": "code",
      "execution_count": null,
      "metadata": {
        "colab": {
          "base_uri": "https://localhost:8080/"
        },
        "id": "sXBRk2_TKDLg",
        "outputId": "e6fbe4fa-4ec5-4635-f65e-8df3feb62b14"
      },
      "outputs": [
        {
          "name": "stdout",
          "output_type": "stream",
          "text": [
            "Digite uma nota [0 a 10]: 50\n",
            "Valor inválido, tente novamente!\n",
            "Digite uma nota [0 a 10]: 60\n"
          ]
        }
      ],
      "source": [
        "# A R R U M A R\n",
        "nota = float(input(\"Digite uma nota [0 a 10]: \"))\n",
        "\n",
        "\n",
        "for nota in range ((nota > 10) or (nota < 0)):\n",
        "    print(\"Valor inválido, tente novamente!\")\n",
        "    nota = float(input(\"Digite uma nota [0 a 10]: \"))"
      ]
    },
    {
      "cell_type": "code",
      "execution_count": null,
      "metadata": {
        "id": "HMwVrZtN_XtQ"
      },
      "outputs": [],
      "source": [
        "# 2 Faça um programa que leia um nome de usuário e a sua senha e não aceite a senha igual ao nome do usuário,\n",
        "# mostrando uma mensagem de erro e voltando a pedir as informações.\n",
        "\n",
        "nome = input(\"Digite seu nome: \")\n",
        "senha = input(\"Digite sua senha: \")\n",
        "\n",
        "while senha == nome:\n",
        "  print(\"Erro, digite novamante!\")\n",
        "  nome = input(\"Digite seu nome: \")\n",
        "  senha = input(\"Digite sua senha: \")\n"
      ]
    },
    {
      "cell_type": "code",
      "execution_count": null,
      "metadata": {
        "colab": {
          "base_uri": "https://localhost:8080/"
        },
        "id": "KxQpzrY0_esJ",
        "outputId": "3257f4d2-c82f-4942-bd1c-7aa05f3bdecd"
      },
      "outputs": [
        {
          "name": "stdout",
          "output_type": "stream",
          "text": [
            "Seu nome: bela\n",
            "Sua Idade: 26\n",
            "Seu salário: 1500\n",
            "Sexo[f/m]: h\n",
            "Sexo Invalido!\n",
            "Sexo[f/m]: l\n",
            "Sexo Invalido!\n",
            "Sexo[f/m]: f\n",
            "Estado Civil[s/c/v/d]: p4\n",
            "Estado Civil Invalido!\n",
            "Estado Civil[s/c/v/d]: o\n",
            "Estado Civil Invalido!\n",
            "Estado Civil[s/c/v/d]: s\n"
          ]
        }
      ],
      "source": [
        "# 3 Faça um programa que leia e valide as seguintes informações:\n",
        "# Nome: maior que 3 caracteres;\n",
        "# Idade: entre 0 e 150;\n",
        "# Salário: maior que zero;\n",
        "# Sexo: 'f' ou 'm';\n",
        "# Estado Civil: 's', 'c', 'v', 'd';\n",
        "\n",
        "\n",
        "nome = input(\"Seu nome: \")\n",
        "while len(nome) <= 3:\n",
        "  print(\"Nome Invalido!\")\n",
        "  nome = input(\"Seu nome: \")\n",
        "\n",
        "idade = int(input(\"Sua Idade: \"))\n",
        "while idade >=150 or idade <= 0:\n",
        "  print(\"Idade Invalido!\")\n",
        "  idade = int(input(\"Sua Idade: \"))\n",
        "\n",
        "sal = float(input(\"Seu salário: \"))\n",
        "while sal < 0:\n",
        "  print(\"Salário Invalido!\")\n",
        "  sal = float(input(\"Seu salário: \"))\n",
        "\n",
        "sexo = input(\"Sexo[f/m]: \")\n",
        "while sexo != \"f\" and sexo != \"m\":\n",
        "  print(\"Sexo Invalido!\")\n",
        "  sexo = input(\"Sexo[f/m]: \")\n",
        "\n",
        "eCivil = input(\"Estado Civil[s/c/v/d]: \")\n",
        "while eCivil != \"s\" and eCivil != \"c\" and eCivil != \"v\" and  eCivil != \"d\":\n",
        "  print(\"Estado Civil Invalido!\")\n",
        "  eCivil = input(\"Estado Civil[s/c/v/d]: \")\n"
      ]
    },
    {
      "cell_type": "code",
      "execution_count": null,
      "metadata": {
        "colab": {
          "base_uri": "https://localhost:8080/"
        },
        "id": "sTEM7YSE8cbx",
        "outputId": "d1803bf3-abb7-49fe-9954-5932d9a3c21f"
      },
      "outputs": [
        {
          "name": "stdout",
          "output_type": "stream",
          "text": [
            "O pais A precisará de 63 ano(s) para se igualar ou passar a população do país B\n"
          ]
        }
      ],
      "source": [
        "# 4 Supondo que a população de um país A seja da ordem de 80000 habitantes com uma taxa anual de crescimento de 3%\n",
        "# e que a população de B seja 200000 habitantes com uma taxa de crescimento de 1.5%.\n",
        "# Faça um programa que calcule e escreva o número de anos necessários para que a população do país A ultrapasse\n",
        "# ou iguale a população do país B, mantidas as taxas de crescimento.\n",
        "\n",
        "paisA = 80000\n",
        "paisB= 200000\n",
        "ano = 0\n",
        "\n",
        "while paisA <= paisB:\n",
        "  paisA +=  paisA * .03\n",
        "  paisB += paisB * .015\n",
        "  ano += 1\n",
        "\n",
        "print(f\"O pais A precisará de {ano} ano(s) para se igualar ou passar a população do país B\")\n"
      ]
    },
    {
      "cell_type": "code",
      "execution_count": null,
      "metadata": {
        "colab": {
          "base_uri": "https://localhost:8080/"
        },
        "id": "VQOiVFZrcF0H",
        "outputId": "8d343777-cb77-43c7-d194-2841ad065b2b"
      },
      "outputs": [
        {
          "name": "stdout",
          "output_type": "stream",
          "text": [
            "Demorou 63 anos para a população de A passar ou igualar a de B.\n",
            "O País A tem 515033 habitantes e o B tem 510964 habitantes.\n"
          ]
        }
      ],
      "source": [
        "# 4 com while true\n",
        "paisA = 80000\n",
        "paisB = 200000\n",
        "anos = 0\n",
        "\n",
        "while True:\n",
        "    anos += 1\n",
        "    paisA = paisA * (1 + .03)\n",
        "    paisB *= 1 + .015\n",
        "\n",
        "    if paisA >= paisB:\n",
        "        print(\n",
        "            f\"Demorou {anos} anos para a população de \"\n",
        "            \"A passar ou igualar a de B.\"\n",
        "            f\"\\nO País A tem {paisA:.0f} habitantes e o B tem {paisB:.0f} habitantes.\"\n",
        "        )\n",
        "\n",
        "        break\n"
      ]
    },
    {
      "cell_type": "code",
      "execution_count": null,
      "metadata": {
        "colab": {
          "base_uri": "https://localhost:8080/"
        },
        "id": "jJdqSKi_YMB4",
        "outputId": "aef7b05b-b471-4cfd-9124-97b52d9b14c3"
      },
      "outputs": [
        {
          "name": "stdout",
          "output_type": "stream",
          "text": [
            "Pupulação do Pais A: 5000\n",
            "A taxa de crescimento do Pais A (%): .5\n",
            "Pupulação do Pais B: 10000\n",
            "A taxa de crescimento do Pais B (%): .2\n",
            "O país A demorará 232 anos para se igualar ou ultrapassar os habitantes do país B \n",
            "O pais A tem 15904 habitantese o país B tem 15897 habitantes\n",
            "\n",
            "Desejacontinuar [S/N]? \n",
            "S\n",
            "Pupulação do Pais A: 200\n",
            "A taxa de crescimento do Pais A (%): 3\n",
            "Pupulação do Pais B: 500\n",
            "A taxa de crescimento do Pais B (%): .5\n",
            "O país A demorará 38 anos para se igualar ou ultrapassar os habitantes do país B \n",
            "O pais A tem 615 habitantese o país B tem 604 habitantes\n",
            "\n",
            "Desejacontinuar [S/N]? \n",
            "n\n"
          ]
        }
      ],
      "source": [
        "# 5 Altere o programa anterior permitindo ao usuário informar as populações e as taxas de crescimento iniciais.\n",
        "# Valide a entrada e permita repetir a operação.\n",
        "\n",
        "\n",
        "\n",
        "continuar = True\n",
        "while continuar:\n",
        "  populacao_A = float(input(\"Pupulação do Pais A: \"))\n",
        "  taxaCres_A = float(input(\"A taxa de crescimento do Pais A (%): \"))\n",
        "\n",
        "  populacao_B = float(input(\"Pupulação do Pais B: \"))\n",
        "  taxaCres_B = float(input(\"A taxa de crescimento do Pais B (%): \"))\n",
        "  ano = 0\n",
        "\n",
        "  while True:\n",
        "    populacao_A += populacao_A * (taxaCres_A / 100)\n",
        "    populacao_B += populacao_B * (taxaCres_B /100)\n",
        "    ano += 1\n",
        "\n",
        "    if populacao_A >= populacao_B:\n",
        "      print(f\"O país A demorará {ano} anos para se igualar ou ultrapassar os habitantes\"\n",
        "            \" do país B \"\n",
        "            f\"\\nO pais A tem {populacao_A:.0f} habitantes\"\n",
        "            f\"e o país B tem {populacao_B:.0f} habitantes\\n\"\n",
        "          )\n",
        "      break\n",
        "\n",
        "  continuar = (True if input(\"Deseja continuar [S/N]?\").upper() == \"S\" else False\n",
        "        )\n",
        "\n",
        "\n",
        "\n"
      ]
    },
    {
      "cell_type": "code",
      "source": [
        "# 6 Faça um programa que imprima na tela os números de 1 a 20, um abaixo do outro.\n",
        "# Depois modifique o programa para que ele mostre os números um ao lado do outro.\n",
        "\n",
        "numero = 1\n",
        "cont = 1\n",
        "\n",
        "for cont in range(20):\n",
        "  print(numero)\n",
        "  numero += 1\n",
        "\n",
        "\n",
        "# numeros do lado do outro\n",
        "\n",
        "numero = \"\"\n",
        "\n",
        "for cont in range(1, 21): # ou até 20 e colocar o numero += \"20\"\n",
        "  numero += f\"{cont}, \"\n",
        "\n",
        "# numero += \"20\"\n",
        "\n",
        "print(numero)"
      ],
      "metadata": {
        "colab": {
          "base_uri": "https://localhost:8080/",
          "height": 558
        },
        "id": "ip9l9tG8t53G",
        "outputId": "0f3dedc9-8028-408a-8db9-de028919738f"
      },
      "execution_count": null,
      "outputs": [
        {
          "output_type": "stream",
          "name": "stdout",
          "text": [
            "1\n",
            "2\n",
            "3\n",
            "4\n",
            "5\n",
            "6\n",
            "7\n",
            "8\n",
            "9\n",
            "10\n",
            "11\n",
            "12\n",
            "13\n",
            "14\n",
            "15\n",
            "16\n",
            "17\n",
            "18\n",
            "19\n",
            "20\n"
          ]
        },
        {
          "output_type": "error",
          "ename": "TypeError",
          "evalue": "unsupported operand type(s) for +=: 'int' and 'str'",
          "traceback": [
            "\u001b[0;31m---------------------------------------------------------------------------\u001b[0m",
            "\u001b[0;31mTypeError\u001b[0m                                 Traceback (most recent call last)",
            "\u001b[0;32m<ipython-input-59-dfad07b95f44>\u001b[0m in \u001b[0;36m<cell line: 15>\u001b[0;34m()\u001b[0m\n\u001b[1;32m     14\u001b[0m \u001b[0;34m\u001b[0m\u001b[0m\n\u001b[1;32m     15\u001b[0m \u001b[0;32mfor\u001b[0m \u001b[0mcont\u001b[0m \u001b[0;32min\u001b[0m \u001b[0mrange\u001b[0m\u001b[0;34m(\u001b[0m\u001b[0;36m1\u001b[0m\u001b[0;34m,\u001b[0m \u001b[0;36m21\u001b[0m\u001b[0;34m)\u001b[0m\u001b[0;34m:\u001b[0m \u001b[0;31m# ou até 20 e colocar o numero += \"20\"\u001b[0m\u001b[0;34m\u001b[0m\u001b[0;34m\u001b[0m\u001b[0m\n\u001b[0;32m---> 16\u001b[0;31m   \u001b[0mnumero\u001b[0m \u001b[0;34m+=\u001b[0m \u001b[0;34mf\"{cont}, \"\u001b[0m\u001b[0;34m\u001b[0m\u001b[0;34m\u001b[0m\u001b[0m\n\u001b[0m\u001b[1;32m     17\u001b[0m \u001b[0;34m\u001b[0m\u001b[0m\n\u001b[1;32m     18\u001b[0m \u001b[0;31m# numero += \"20\"\u001b[0m\u001b[0;34m\u001b[0m\u001b[0;34m\u001b[0m\u001b[0m\n",
            "\u001b[0;31mTypeError\u001b[0m: unsupported operand type(s) for +=: 'int' and 'str'"
          ]
        }
      ]
    },
    {
      "cell_type": "code",
      "source": [
        "# While exer 6\n",
        "#numeros um do lado do outro\n",
        "cont = 1\n",
        "numero = \"\"\n",
        "\n",
        "while cont < 20:\n",
        "  numero += f\"{cont}, \"\n",
        "  cont += 1\n",
        "\n",
        "numero += \"20\"\n",
        "print(numero)\n",
        "\n",
        "###################\n",
        "#Numeros um embaixo do outro\n",
        "cont = 0\n",
        "numero = 1\n",
        "\n",
        "while cont < 20:\n",
        "  print(f\"{numero}\")\n",
        "  numero += 1\n",
        "  cont += 1\n"
      ],
      "metadata": {
        "colab": {
          "base_uri": "https://localhost:8080/"
        },
        "id": "NfFjpc3sw34S",
        "outputId": "a87b03b3-05e3-4d02-839a-aa92f3a66082"
      },
      "execution_count": null,
      "outputs": [
        {
          "output_type": "stream",
          "name": "stdout",
          "text": [
            "1, 2, 3, 4, 5, 6, 7, 8, 9, 10, 11, 12, 13, 14, 15, 16, 17, 18, 19, 20\n",
            "1\n",
            "2\n",
            "3\n",
            "4\n",
            "5\n",
            "6\n",
            "7\n",
            "8\n",
            "9\n",
            "10\n",
            "11\n",
            "12\n",
            "13\n",
            "14\n",
            "15\n",
            "16\n",
            "17\n",
            "18\n",
            "19\n",
            "20\n"
          ]
        }
      ]
    },
    {
      "cell_type": "code",
      "source": [
        "# 7 Faça um programa que leia 5 números e informe o maior número.\n",
        "\n",
        "numero = [] #lista\n",
        "\n",
        "for i in range(1,6):\n",
        "  numero.append(float(input(f\"Informe o {i}º numero: \")))\n",
        "  i += 1\n",
        "\n",
        "maior = max(numero)\n",
        "\n",
        "\n",
        "print(f\"\\nO maior número digitado foi {maior}\")"
      ],
      "metadata": {
        "colab": {
          "base_uri": "https://localhost:8080/"
        },
        "id": "bWb1_q2pvfub",
        "outputId": "577e7b8c-c7be-46d7-ff0c-aac456ec8b53"
      },
      "execution_count": null,
      "outputs": [
        {
          "output_type": "stream",
          "name": "stdout",
          "text": [
            "Informe o 1º numero: 8\n",
            "Informe o 2º numero: 4\n",
            "Informe o 3º numero: 5\n",
            "Informe o 4º numero: 6\n",
            "Informe o 5º numero: 1\n",
            "\n",
            "O maior número digitado foi 8.0\n"
          ]
        }
      ]
    },
    {
      "cell_type": "code",
      "source": [
        "# 8 Faça um programa que leia 5 números e informe a soma e a média dos números.\n",
        "\n",
        "soma = 0\n",
        "\n",
        "for cont in range(1,6):\n",
        "  numero = float(input(f\"Digite o {cont}º número: \"))\n",
        "  soma += numero\n",
        "  cont += 1\n",
        "\n",
        "media = soma / 5\n",
        "\n",
        "print(f\"A soma dos número é {soma:.2f}\"\n",
        "      f\"\\nA média é {media:.2f}\")"
      ],
      "metadata": {
        "colab": {
          "base_uri": "https://localhost:8080/"
        },
        "id": "GHY_HjlN4e5j",
        "outputId": "c6adbbc0-2708-4571-d347-6d219418c94b"
      },
      "execution_count": null,
      "outputs": [
        {
          "output_type": "stream",
          "name": "stdout",
          "text": [
            "Digite o 1º número: 5\n",
            "Digite o 2º número: 5\n",
            "Digite o 3º número: 5\n",
            "Digite o 4º número: 6\n",
            "Digite o 5º número: 10\n",
            "A soma dos número é 31.00\n",
            "A média é 6.20\n"
          ]
        }
      ]
    },
    {
      "cell_type": "code",
      "source": [
        "# 8 Faça um programa que leia 5 números e informe a soma e a média dos números.\n",
        "# C O M  W H I L E\n",
        "\n",
        "cont = 1\n",
        "soma = 0\n",
        "\n",
        "while cont < 6:\n",
        "  numero = float(input(f\"Digite o {cont}º número: \"))\n",
        "  soma += numero\n",
        "  cont += 1\n",
        "\n",
        "media = soma / 5\n",
        "\n",
        "print(f\"\\nA soma é {soma:.1f}\"\n",
        "      f\"\\nA média é {media:.1f}\")"
      ],
      "metadata": {
        "colab": {
          "base_uri": "https://localhost:8080/"
        },
        "id": "5z-z9HgH6iR-",
        "outputId": "cbe6673c-b405-44e8-ee2a-aac892c69b96"
      },
      "execution_count": null,
      "outputs": [
        {
          "output_type": "stream",
          "name": "stdout",
          "text": [
            "Digite o 1º número: 5\n",
            "Digite o 2º número: 8\n",
            "Digite o 3º número: 9\n",
            "Digite o 4º número: 6\n",
            "Digite o 5º número: 5\n",
            "\n",
            "A soma é 33.0\n",
            "A média é 6.6\n"
          ]
        }
      ]
    },
    {
      "cell_type": "code",
      "source": [
        "# 9 Faça um programa que imprima na tela apenas os números ímpares entre 1 e 50.\n",
        "\n",
        "for cont in range(1,50,2):\n",
        "  print(cont)\n",
        "\n",
        "# com while\n",
        "\n",
        "print(\"\\n\"\n",
        "      \"\\nCom WHILE\")\n",
        "\n",
        "cont = 1\n",
        "\n",
        "while cont < 50:\n",
        "  print(f\"{cont}\")\n",
        "  cont += 2"
      ],
      "metadata": {
        "colab": {
          "base_uri": "https://localhost:8080/"
        },
        "id": "M_MFrQSq7mck",
        "outputId": "b62b8a8e-b2f7-45a1-f2c7-b03ea6aa50c5"
      },
      "execution_count": null,
      "outputs": [
        {
          "output_type": "stream",
          "name": "stdout",
          "text": [
            "1\n",
            "3\n",
            "5\n",
            "7\n",
            "9\n",
            "11\n",
            "13\n",
            "15\n",
            "17\n",
            "19\n",
            "21\n",
            "23\n",
            "25\n",
            "27\n",
            "29\n",
            "31\n",
            "33\n",
            "35\n",
            "37\n",
            "39\n",
            "41\n",
            "43\n",
            "45\n",
            "47\n",
            "49\n",
            "\n",
            "\n",
            "Com WHILE\n",
            "1\n",
            "3\n",
            "5\n",
            "7\n",
            "9\n",
            "11\n",
            "13\n",
            "15\n",
            "17\n",
            "19\n",
            "21\n",
            "23\n",
            "25\n",
            "27\n",
            "29\n",
            "31\n",
            "33\n",
            "35\n",
            "37\n",
            "39\n",
            "41\n",
            "43\n",
            "45\n",
            "47\n",
            "49\n"
          ]
        }
      ]
    },
    {
      "cell_type": "code",
      "source": [
        "# 10  Faça um programa que receba dois números inteiros e gere os números inteiros que estão no intervalo compreendido por eles.\n",
        "\n",
        "n1 = int(input(\"Digite o primeiro número: \"))\n",
        "n2 = int(input(\"Digite o segundo número: \"))\n",
        "\n",
        "print(\"A sequência dos número digitados é: \")\n",
        "\n",
        "if n1 < n2:\n",
        "  while n1 <= n2:\n",
        "    print(n1)\n",
        "    n1 += 1\n",
        "\n",
        "else:\n",
        "  while n1 >= n2:\n",
        "    print(n1)\n",
        "    n1 -= 1\n",
        "\n",
        "  soma += n1\n"
      ],
      "metadata": {
        "colab": {
          "base_uri": "https://localhost:8080/"
        },
        "id": "bKPeDBhr8-r2",
        "outputId": "abc9ff1f-709f-4cca-837a-a6e80ad15d8e"
      },
      "execution_count": null,
      "outputs": [
        {
          "output_type": "stream",
          "name": "stdout",
          "text": [
            "Digite o primeiro número: 10\n",
            "Digite o segundo número: 5\n",
            "A sequência dos número digitados é: \n",
            "10\n",
            "9\n",
            "8\n",
            "7\n",
            "6\n",
            "5\n"
          ]
        }
      ]
    },
    {
      "cell_type": "code",
      "source": [
        "# 11  Altere o programa anterior para mostrar no final a soma dos números.\n",
        "\n",
        "soma = 0\n",
        "n1 = int(input(\"Digite o primeiro número: \"))\n",
        "n2 = int(input(\"Digite o segundo número: \"))\n",
        "\n",
        "print(\"A sequência dos número digitados é: \")\n",
        "\n",
        "if n1 < n2:\n",
        "  while n1 <= n2:\n",
        "    print(n1)\n",
        "    soma += n1\n",
        "    n1 += 1\n",
        "\n",
        "else:\n",
        "  while n1 >= n2:\n",
        "    print(n1)\n",
        "    soma += n1\n",
        "    n1 -= 1\n",
        "\n",
        "\n",
        "\n",
        "print(f\"A soma da sequência dos número é {soma:.0f}\")"
      ],
      "metadata": {
        "id": "fN3qaMC3CSbN"
      },
      "execution_count": null,
      "outputs": []
    },
    {
      "cell_type": "markdown",
      "source": [
        "10 - Desenvolva um gerador de tabuada, capaz de gerar a tabuada de qualquer número inteiro entre 1 a 10. O usuário deve informar de qual numero ele deseja ver a tabuada. A saída deve ser conforme o exemplo abaixo:\n",
        "\n",
        "Tabuada de 5:\n",
        "\n",
        "* 5 X 1 = 5\n",
        "\n",
        "* 5 X 2 = 10...\n",
        "\n",
        "* 5 X 10 = 50"
      ],
      "metadata": {
        "id": "ByGlUJY0Ep__"
      }
    },
    {
      "cell_type": "code",
      "source": [],
      "metadata": {
        "id": "npIeE_5bEl6b"
      },
      "execution_count": null,
      "outputs": []
    }
  ],
  "metadata": {
    "colab": {
      "provenance": [],
      "authorship_tag": "ABX9TyPHNaL1dpikLYaMlXYOZiZl"
    },
    "kernelspec": {
      "display_name": "Python 3",
      "name": "python3"
    },
    "language_info": {
      "name": "python"
    }
  },
  "nbformat": 4,
  "nbformat_minor": 0
}