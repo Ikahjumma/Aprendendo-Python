{
  "nbformat": 4,
  "nbformat_minor": 0,
  "metadata": {
    "colab": {
      "provenance": [],
      "authorship_tag": "ABX9TyMJtoeS3FkMzEsotwB7z2Hv"
    },
    "kernelspec": {
      "name": "python3",
      "display_name": "Python 3"
    },
    "language_info": {
      "name": "python"
    }
  },
  "cells": [
    {
      "cell_type": "code",
      "execution_count": 1,
      "metadata": {
        "colab": {
          "base_uri": "https://localhost:8080/"
        },
        "id": "kV262XLaFl75",
        "outputId": "9d822b42-26c2-4233-b154-fc08aaf82a4c"
      },
      "outputs": [
        {
          "output_type": "stream",
          "name": "stdout",
          "text": [
            "Temperatura em Graus Fahrenheit: 95\n",
            "A temperatura em graus celcius é 35.0\n"
          ]
        }
      ],
      "source": [
        "# 1)  Faça um Programa que peça a temperatura em graus Fahrenheit, transforme e mostre a temperatura em graus Celsius. C = 5 * ((F-32) / 9).\n",
        "\n",
        "temperaturaF = float (input(\"Temperatura em Graus Fahrenheit: \"))\n",
        "\n",
        "temperaturaC = 5 * ((temperaturaF - 32) / 9)\n",
        "\n",
        "print(\"A temperatura em graus celcius é %.1f\" %temperaturaC)"
      ]
    },
    {
      "cell_type": "code",
      "source": [
        "# 2)  Faça um Programa que peça as 4 notas bimestrais e mostre a média.\n",
        "\n",
        "n1 = float(input(\"Primeira nota: \"))\n",
        "n2 = float(input(\"Segunda nota: \"))\n",
        "n3 = float(input(\"Terceira nota: \"))\n",
        "n4 = float(input(\"Quarta nota: \"))\n",
        "\n",
        "mediaBimestre = (n1 + n2 + n3 + n4) / 4\n",
        "\n",
        "print(\"A média do bimestre é %.1f\" %mediaBimestre)"
      ],
      "metadata": {
        "colab": {
          "base_uri": "https://localhost:8080/"
        },
        "id": "bji8pMhdGdDI",
        "outputId": "82ebc909-a2a4-4de4-cb85-dde2608fe68d"
      },
      "execution_count": 3,
      "outputs": [
        {
          "output_type": "stream",
          "name": "stdout",
          "text": [
            "Primeira nota: 10\n",
            "Segunda nota: 10\n",
            "Terceira nota: 10\n",
            "Quarta nota: 10\n",
            "A média do bimestre é 10.0\n"
          ]
        }
      ]
    },
    {
      "cell_type": "code",
      "source": [
        "# 3)  Faça um programa para a leitura de duas notas de um aluno. O programa deve calcular a média alcançada por aluno e apresentar:\n",
        "# A mensagem \"Aprovado\", se a média alcançada for maior ou igual a sete;\n",
        "# A mensagem \"Reprovado\", se a média for menor do que sete;\n",
        "# A mensagem \"Aprovado com Distinção\", se a média for igual a dez.\n",
        "\n",
        "n1 = float (input(\"Primeira Nota: \"))\n",
        "n2 = float (input(\"Segunda Nota: \"))\n",
        "\n",
        "media = (n1 + n2) / 2\n",
        "\n",
        "if media == 10:\n",
        "  print(\"Sua média é %.1f APROVADO COM DISTINÇÃO =D\" %media)\n",
        "elif media >= 7:\n",
        "  print(\"Sua média é %.1f APROVADO!!!!\" %media)\n",
        "else:\n",
        "  print(\"Sua média é %.1f REPROVADO.\" %media)\n"
      ],
      "metadata": {
        "colab": {
          "base_uri": "https://localhost:8080/"
        },
        "id": "gFkWuEIoGcya",
        "outputId": "afeaca7d-9352-4cdc-d04d-53f908b9ffc9"
      },
      "execution_count": 9,
      "outputs": [
        {
          "output_type": "stream",
          "name": "stdout",
          "text": [
            "Primeira Nota: 7\n",
            "Segunda Nota: 6.8\n",
            "Sua média é 6.9 REPROVADO.\n"
          ]
        }
      ]
    },
    {
      "cell_type": "code",
      "source": [
        "# 4)  Faça um Programa que peça um número correspondente a um determinado ano e em seguida informe se este ano é ou não bissexto.\n",
        "\n"
      ],
      "metadata": {
        "id": "EdwCqbURGgtz"
      },
      "execution_count": null,
      "outputs": []
    },
    {
      "cell_type": "code",
      "source": [
        "# 5)  Faça um Programa que peça um valor e mostre na tela se o valor é positivo ou negativo.\n",
        "\n"
      ],
      "metadata": {
        "id": "bu1tuCuqGjL1"
      },
      "execution_count": null,
      "outputs": []
    }
  ]
}