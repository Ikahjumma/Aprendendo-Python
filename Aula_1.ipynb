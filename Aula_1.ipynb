{
  "nbformat": 4,
  "nbformat_minor": 0,
  "metadata": {
    "colab": {
      "provenance": [],
      "authorship_tag": "ABX9TyMeaF4xyV/rftfMxr1THcgA"
    },
    "kernelspec": {
      "name": "python3",
      "display_name": "Python 3"
    },
    "language_info": {
      "name": "python"
    }
  },
  "cells": [
    {
      "cell_type": "markdown",
      "source": [
        "# Comentários e Operações Aritméticas"
      ],
      "metadata": {
        "id": "rX3Jftm47Cz2"
      }
    },
    {
      "cell_type": "code",
      "source": [
        "#isso é um comentário, portanto não será executado\n",
        "\n",
        "print (\"Ana B\") #estou usando aspas duplas\n",
        "print ('maria') #estou usando aspas simples\n",
        "print (clt) #sublinhado amarelo - warning\n",
        "\n",
        "#Operadores Aritméticos + - / *\n",
        "print (2+100)\n",
        "print (100-50)\n",
        "print (200/2)\n",
        "print (3*4)"
      ],
      "metadata": {
        "colab": {
          "base_uri": "https://localhost:8080/"
        },
        "id": "QVT4Empg7png",
        "outputId": "b4069154-62e9-4102-8baa-bda048c8578b"
      },
      "execution_count": null,
      "outputs": [
        {
          "output_type": "stream",
          "name": "stdout",
          "text": [
            "Ana B\n",
            "maria\n",
            "102\n",
            "50\n",
            "100.0\n",
            "12\n"
          ]
        }
      ]
    },
    {
      "cell_type": "code",
      "source": [
        "#Outros Operadores: (** exponenciação) - (divisão inteira //)\n",
        "# (Resto da divisão %)\n",
        "\n",
        "print (9**2)\n",
        "print (4/3)   #divisão normal\n",
        "print (7//3)  #parte inteira da divisão\n",
        "print (7%3)   #resto da divisão\n",
        "\n"
      ],
      "metadata": {
        "colab": {
          "base_uri": "https://localhost:8080/"
        },
        "id": "PDs1f6I8EQp-",
        "outputId": "8d4f4dd6-168b-4271-f59a-6fe3a20f372e"
      },
      "execution_count": null,
      "outputs": [
        {
          "output_type": "stream",
          "name": "stdout",
          "text": [
            "81\n",
            "1.3333333333333333\n",
            "2\n",
            "1\n"
          ]
        }
      ]
    },
    {
      "cell_type": "code",
      "source": [
        "#Operadores Relacionais > >=  < >=  (== igual) - (!= diferente)\n",
        "\n",
        "print ('a=a', 'a' == 'a')   #concatenação = junção (,)\n",
        "print ('a é igual a b?', 'a' == 'b')\n",
        "print ('2 é diferente de 3?', 2 != 3)\n",
        "print (\"2 é maior que 6?\", 2 > 6)\n",
        "print (\"300 é maior ou igual a 300?\", 300 >= 300)\n",
        "print (\"Resultado?\", 7* (5+9)**2)\n"
      ],
      "metadata": {
        "colab": {
          "base_uri": "https://localhost:8080/"
        },
        "id": "P9Wn0dXPF9TV",
        "outputId": "d6af4679-3fc0-45c0-d26c-fb97074688fd"
      },
      "execution_count": null,
      "outputs": [
        {
          "output_type": "stream",
          "name": "stdout",
          "text": [
            "a=a True\n",
            "a é igual a b? False\n",
            "2 é diferemte de 3? True\n",
            "2 é maior que 6? False\n",
            "300 é maior ou igual a 300? True\n",
            "Resultado? 1372\n"
          ]
        }
      ]
    },
    {
      "cell_type": "code",
      "source": [
        "#Variáveis de Memória\n",
        "\n",
        "nome = 'Ana B'\n",
        "nome_Pessoa = 'Maria'\n",
        "nomePessoa = 'Thamy' #camelCase\n",
        "\n",
        "#Variável Inteiro (número inteiro)\n",
        "\n",
        "idade = 30\n",
        "filhos = 3\n",
        "\n",
        "#Variável Ponto Flutuante (número decimal)\n",
        "\n",
        "nota1 = 5.5\n",
        "salario = 5750.99\n",
        "salario = 10000.00 #substitui o 5k\n",
        "\n",
        "print (nome)\n",
        "print (nome, nomePessoa) #concatenei\n",
        "\n",
        "print (nome_Pessoa, 'tem', filhos, \"filhos e ganha um salário de R$\", salario)\n",
        "print (nome_Pessoa, \"tem\", filhos, 'filhos')\n",
        "\n",
        "#Variável Lógica True e False\n",
        "\n",
        "clt = True\n",
        "ValeTransporte = False\n",
        "\n",
        "print (nomePessoa, 'é CLT?', clt)"
      ],
      "metadata": {
        "colab": {
          "base_uri": "https://localhost:8080/"
        },
        "id": "as4TBJCxPyIm",
        "outputId": "b011fa10-90bb-4f86-dc6f-6409ebe17059"
      },
      "execution_count": null,
      "outputs": [
        {
          "output_type": "stream",
          "name": "stdout",
          "text": [
            "Ana B\n",
            "Ana B Thamy\n",
            "Maria tem 3 filhos e ganha um salário de R$ 10000.0\n",
            "Maria tem 3 filhos\n",
            "Thamy é CLT? True\n"
          ]
        }
      ]
    },
    {
      "cell_type": "code",
      "source": [
        "#Receber Informação do Meio Externo\n",
        "\n",
        "nome = input (\"Digite seu nome: \")\n",
        "print (\"o nome digitado foi: \", nome)\n"
      ],
      "metadata": {
        "colab": {
          "base_uri": "https://localhost:8080/"
        },
        "id": "eygYohXZVqMS",
        "outputId": "63ac1588-6be9-4043-f9b1-b0932935bef4"
      },
      "execution_count": null,
      "outputs": [
        {
          "output_type": "stream",
          "name": "stdout",
          "text": [
            "Digite seu nome: ana\n",
            "o nome digitado foi:  ana\n"
          ]
        }
      ]
    },
    {
      "cell_type": "code",
      "source": [
        "#Fulano tem 3 filhos e ganha R$ 1000,00\n",
        "#passar variáveis como estrutura de dados\n",
        "\n",
        "print (\"%s tem %i filhos e ganha R$ %.2f\" %(nome_Pessoa, filhos, salario))\n"
      ],
      "metadata": {
        "colab": {
          "base_uri": "https://localhost:8080/"
        },
        "id": "jt0fxz4oZ8BS",
        "outputId": "b82510a3-b9c1-413c-a2b9-a00c800faa99"
      },
      "execution_count": null,
      "outputs": [
        {
          "output_type": "stream",
          "name": "stdout",
          "text": [
            "Maria tem 3 filhos e ganha R$ 10000.00\n"
          ]
        }
      ]
    },
    {
      "cell_type": "code",
      "source": [
        "anoNasc = int (input (\"Informe ano nascimento: \"))\n",
        "print(anoNasc) #neste momento anoNasc é string\n",
        "anoNasc = int (anoNasc) #conversão para númeto inteiro - casting"
      ],
      "metadata": {
        "id": "j9cJ0Un4cZNh"
      },
      "execution_count": null,
      "outputs": []
    },
    {
      "cell_type": "code",
      "source": [
        "#Exercícios\n",
        "\n",
        "# 1) Faça um programa que exiba seu nome na tela.\n",
        "print (\"Ana Bela SG\")\n",
        "\n"
      ],
      "metadata": {
        "colab": {
          "base_uri": "https://localhost:8080/"
        },
        "id": "f35c03hcYHa1",
        "outputId": "a5721175-fe6b-489d-cb96-ed94afe8899d"
      },
      "execution_count": null,
      "outputs": [
        {
          "output_type": "stream",
          "name": "stdout",
          "text": [
            "Ana Bela SG\n"
          ]
        }
      ]
    },
    {
      "cell_type": "code",
      "source": [
        "#2) Escreva um programa que exiba o resultado de 2a × 3b, em que a vale 3 e b vale 5.\n",
        "a = 3\n",
        "b = 5\n",
        "\n",
        "print ((2 * a) * (3 * b))\n"
      ],
      "metadata": {
        "colab": {
          "base_uri": "https://localhost:8080/"
        },
        "id": "VbQQhtEYZhvz",
        "outputId": "bd493c18-c0fc-428f-f151-1306474d71a8"
      },
      "execution_count": null,
      "outputs": [
        {
          "output_type": "stream",
          "name": "stdout",
          "text": [
            "90\n"
          ]
        }
      ]
    },
    {
      "cell_type": "code",
      "source": [
        "#3) Escreva um programa em Python que solicite ao usuário a distância entre duas cidades e o tempo de viagem.\n",
        "#O programa deverá calcular e exibir a velocidade média de um carro que vai de uma cidade para outra. Utilize a fórmula: velMedia = distancia / tempo\n",
        "\n",
        "distancia = int (input ('Digite a distancia entre as cidades: '))\n",
        "tempo = int (input ('Digite o tempo que levará o percurso: '))\n",
        "\n",
        "velMedia = distancia / tempo\n",
        "\n",
        "print (\"A velocidade media do veiculo é %.2f km/h\" %(velMedia))"
      ],
      "metadata": {
        "colab": {
          "base_uri": "https://localhost:8080/"
        },
        "id": "bT775HRKbiJj",
        "outputId": "159871ea-28ce-41cd-c604-780755f4be14"
      },
      "execution_count": null,
      "outputs": [
        {
          "output_type": "stream",
          "name": "stdout",
          "text": [
            "Digite a distancia entre as cidades: 174\n",
            "Digite o tempo que levará o percurso: 3\n",
            "A velocidade media do veiculo é 58.00 km/h\n"
          ]
        }
      ]
    },
    {
      "cell_type": "code",
      "source": [
        "#4) Escreva um programa em Python que leia um valor representando o gasto realizado por um cliente do restaurante\n",
        "#ComaBem e visualize o valor total a ser pago, considerando os 10% do garçom.\n",
        "\n",
        "print (\"Restaurante Coma Bem\");\n",
        "\n",
        "valorGasto = int ( input (\"Informe o valor da conta: R$ \"));\n",
        "\n",
        "totalPagar = valorGasto * 1.1\n",
        "\n",
        "print (\"O total a pagar é R$ %.2f\" %(totalPagar))\n",
        "\n",
        "\n"
      ],
      "metadata": {
        "id": "AXgR6IO5br4W",
        "colab": {
          "base_uri": "https://localhost:8080/"
        },
        "outputId": "e2b3208d-0a29-486d-f8f6-d538e77bb79b"
      },
      "execution_count": null,
      "outputs": [
        {
          "output_type": "stream",
          "name": "stdout",
          "text": [
            "Restaurante Coma Bem\n",
            "Informe o valor da conta: R$ 50\n",
            "O total a pagar é R$ 55.00\n"
          ]
        }
      ]
    },
    {
      "cell_type": "code",
      "source": [
        "# 5) Desenvolva um programa em Python que solicite ao usuário os valores dos lados de um retângulo e\n",
        "# calcule e mostre seu perímetro e sua área.\n",
        "\n",
        "ladoA = int ( input (\"Informe o lado A do retângulo: \"));\n",
        "ladoB = int ( input (\"Informe o lado B do retângulo: \"));\n",
        "\n",
        "area = ladoA * ladoB;\n",
        "perimetro = 2 * (ladoA + ladoB);\n",
        "\n",
        "print (\"A area do retângulo é %.f \" %(area));\n",
        "print (\"O perimetro do retângulo é %.0f \" %(perimetro));\n",
        "\n",
        "\n"
      ],
      "metadata": {
        "colab": {
          "base_uri": "https://localhost:8080/"
        },
        "id": "sbi8G-nY3HAV",
        "outputId": "53cc77e6-409f-46aa-a04c-f654e875d715"
      },
      "execution_count": null,
      "outputs": [
        {
          "output_type": "stream",
          "name": "stdout",
          "text": [
            "Informe o lado A do retângulo: 5\n",
            "Informe o lado B do retângulo: 12\n",
            "A area do retângulo é 60 \n",
            "O perimetro do retângulo é 34 \n"
          ]
        }
      ]
    },
    {
      "cell_type": "code",
      "source": [
        "# 6) Escreva um programa em Python que solicite ao usuário o salário atual e mostre o salário acrescido de 5% de comissão.\n",
        "\n",
        "salario = int ( input (\"Informe seu salário: R$\"))\n",
        "\n",
        "SalAcrescimo = salario * 1.05\n",
        "\n",
        "print (\"Seu salário com acressimo é R$ %.2f \" %(SalAcrescimo));\n"
      ],
      "metadata": {
        "colab": {
          "base_uri": "https://localhost:8080/"
        },
        "id": "mN7BRQJk3LgC",
        "outputId": "5cf5dbfb-8828-4d5a-861e-c0cf5b99cce7"
      },
      "execution_count": null,
      "outputs": [
        {
          "output_type": "stream",
          "name": "stdout",
          "text": [
            "Informe seu salário: R$2000\n",
            "Seu salário com acressimo é R$ 2100.00 \n"
          ]
        }
      ]
    },
    {
      "cell_type": "code",
      "source": [
        "# 7) Escreva um programa que calcule a soma de três variáveis e imprima o resultado na tela.\n",
        "\n",
        "print (\"Soma de Valores\");\n",
        "a = float ( input (\"Informe o primeiro valor: \"));\n",
        "b = float ( input (\"Informe o segundo valor: \"));\n",
        "c = float ( input (\"Informe o terceiro valor: \"));\n",
        "\n",
        "total = a + b + c ;\n",
        "\n",
        "print (\"A soma dos valores é %.2f\" %(total))"
      ],
      "metadata": {
        "colab": {
          "base_uri": "https://localhost:8080/"
        },
        "id": "ogD08mb83OkF",
        "outputId": "14e884ab-7176-4314-b461-45f996299a1b"
      },
      "execution_count": null,
      "outputs": [
        {
          "output_type": "stream",
          "name": "stdout",
          "text": [
            "Soma de Valores\n",
            "Informe o primeiro valor: 5.5\n",
            "Informe o segundo valor: 10\n",
            "Informe o terceiro valor: 6.1\n",
            "A soma dos valores é 21.60\n"
          ]
        }
      ]
    }
  ]
}