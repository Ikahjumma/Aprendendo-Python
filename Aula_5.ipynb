{
  "nbformat": 4,
  "nbformat_minor": 0,
  "metadata": {
    "colab": {
      "provenance": [],
      "authorship_tag": "ABX9TyOzSnUQzOUhIu1KPJ1Vccyu"
    },
    "kernelspec": {
      "name": "python3",
      "display_name": "Python 3"
    },
    "language_info": {
      "name": "python"
    }
  },
  "cells": [
    {
      "cell_type": "markdown",
      "source": [
        "# Estrutura de Repetição FOR"
      ],
      "metadata": {
        "id": "r274Ssw-Hj6B"
      }
    },
    {
      "cell_type": "code",
      "source": [
        "for i in range(5):\n",
        "  print(f\"{i} B\")"
      ],
      "metadata": {
        "colab": {
          "base_uri": "https://localhost:8080/"
        },
        "id": "5Kmz-NpAHw7v",
        "outputId": "d87d7c50-c579-42d5-a5c7-7b894cebaf7a"
      },
      "execution_count": null,
      "outputs": [
        {
          "output_type": "stream",
          "name": "stdout",
          "text": [
            "0 B\n",
            "1 B\n",
            "2 B\n",
            "3 B\n",
            "4 B\n"
          ]
        }
      ]
    },
    {
      "cell_type": "markdown",
      "source": [
        "saída 0 1 2... 10"
      ],
      "metadata": {
        "id": "233Ry4hvJXtH"
      }
    },
    {
      "cell_type": "code",
      "source": [
        "for i in range(10,1000,100):\n",
        "  #range(valor inicial, valor parada, passo)\n",
        "  print(f\"{i}\")\n"
      ],
      "metadata": {
        "colab": {
          "base_uri": "https://localhost:8080/"
        },
        "id": "qyQzFUCzJASH",
        "outputId": "18669226-75fc-4411-b08d-c561629c6940"
      },
      "execution_count": null,
      "outputs": [
        {
          "output_type": "stream",
          "name": "stdout",
          "text": [
            "10\n",
            "110\n",
            "210\n",
            "310\n",
            "410\n",
            "510\n",
            "610\n",
            "710\n",
            "810\n",
            "910\n"
          ]
        }
      ]
    },
    {
      "cell_type": "code",
      "source": [
        "for i in range(5):\n",
        "  nome = input(\"Digite um nome: \")\n",
        "  print(nome)"
      ],
      "metadata": {
        "colab": {
          "base_uri": "https://localhost:8080/"
        },
        "id": "rQhGnYr5LFQf",
        "outputId": "267c1c92-3f4c-49f8-98a0-68ce8435dd7b"
      },
      "execution_count": null,
      "outputs": [
        {
          "output_type": "stream",
          "name": "stdout",
          "text": [
            "Digite um nome: Ana\n",
            "Ana\n",
            "Digite um nome: Bela\n",
            "Bela\n",
            "Digite um nome: Da\n",
            "Da\n",
            "Digite um nome: Silva\n",
            "Silva\n",
            "Digite um nome: Gonçalves\n",
            "Gonçalves\n"
          ]
        }
      ]
    },
    {
      "cell_type": "code",
      "source": [
        "# while (enquanto)\n",
        "\n",
        "i = 0 #nós temo que declarar a variável E não esquecer de somar, evitar looping!!!\n",
        "while i < 5:\n",
        "  print(i)\n",
        "  i += 1    # i = i + 1\n"
      ],
      "metadata": {
        "colab": {
          "base_uri": "https://localhost:8080/"
        },
        "id": "108Wk5r-M3Z2",
        "outputId": "1b1ec681-73a4-4a01-b21d-465e39df3ccc"
      },
      "execution_count": null,
      "outputs": [
        {
          "output_type": "stream",
          "name": "stdout",
          "text": [
            "0\n",
            "1\n",
            "2\n",
            "3\n",
            "4\n"
          ]
        }
      ]
    },
    {
      "cell_type": "code",
      "source": [
        "# Faça um programa que imprima na tela apenas os números ímpares entre 1 e 50\n",
        "\n",
        "for i in range(1,50,2):\n",
        "  print(i)"
      ],
      "metadata": {
        "colab": {
          "base_uri": "https://localhost:8080/"
        },
        "id": "YVFBZnc1RVYm",
        "outputId": "bbadd3b7-2d46-4b87-8c01-f6ef3e902957"
      },
      "execution_count": null,
      "outputs": [
        {
          "output_type": "stream",
          "name": "stdout",
          "text": [
            "1\n",
            "3\n",
            "5\n",
            "7\n",
            "9\n",
            "11\n",
            "13\n",
            "15\n",
            "17\n",
            "19\n",
            "21\n",
            "23\n",
            "25\n",
            "27\n",
            "29\n",
            "31\n",
            "33\n",
            "35\n",
            "37\n",
            "39\n",
            "41\n",
            "43\n",
            "45\n",
            "47\n",
            "49\n"
          ]
        }
      ]
    },
    {
      "cell_type": "code",
      "source": [
        "# Faça um programa que leia 5 números e informe a soma e a média dos números\n",
        "\n",
        "soma = 0\n",
        "for i in range(5):\n",
        "  numero = float(input(\"Digite o número: \"))\n",
        "  soma  = soma + numero\n",
        "\n",
        "media = soma / 5\n",
        "\n",
        "print(f\"A soma dos números é {soma} e a média é {media}\")\n",
        "\n"
      ],
      "metadata": {
        "colab": {
          "base_uri": "https://localhost:8080/"
        },
        "id": "Psr6vD8MRmUF",
        "outputId": "9e28e129-4722-491a-cbdb-2b78e2c1d199"
      },
      "execution_count": null,
      "outputs": [
        {
          "output_type": "stream",
          "name": "stdout",
          "text": [
            "Digite o número: 50\n",
            "Digite o número: 60\n",
            "Digite o número: 2\n",
            "Digite o número: 5\n",
            "Digite o número: 2.8\n",
            "A soma dos números é 119.8 e a média é 23.96\n"
          ]
        }
      ]
    },
    {
      "cell_type": "code",
      "source": [
        "# Faça um programa que leia 5 números e informe a soma e a média dos números\n",
        "# Com  WHILE\n",
        "\n",
        "i = 0\n",
        "soma = 0\n",
        "\n",
        "while i < 5:\n",
        "  num = float(input(\"Digite um número: \"))\n",
        "  soma = soma + num #soma é uma variável acumuladora\n",
        "  i += 1\n",
        "\n",
        "media = soma / 5\n",
        "\n",
        "print(f\"A soma dos números é {soma} e a média é {media}\")"
      ],
      "metadata": {
        "colab": {
          "base_uri": "https://localhost:8080/"
        },
        "id": "EK0HUuaOcwfF",
        "outputId": "24b713ec-c367-465d-c51a-1e0642e7239e"
      },
      "execution_count": null,
      "outputs": [
        {
          "output_type": "stream",
          "name": "stdout",
          "text": [
            "Digite um número: 5\n",
            "Digite um número: 2\n",
            "Digite um número: 2.8\n",
            "Digite um número: 5.7\n",
            "Digite um número: 5\n",
            "A soma dos números é 20.5 e a média é 4.1\n"
          ]
        }
      ]
    },
    {
      "cell_type": "code",
      "source": [
        "# Faca um programa que mostre 20 termos da serie a seguir\n",
        "# s = 1/1 + 2/3 + 3/5 + 4/7 + 5/9 + ...\n",
        "\n",
        "\n",
        "acima = 1\n",
        "abaixo = 1\n",
        "\n",
        "for i in range(21):\n",
        "  print(f\"{acima} / {abaixo}\")\n",
        "  acima = acima + 1\n",
        "  abaixo = abaixo + 2\n",
        "\n"
      ],
      "metadata": {
        "colab": {
          "base_uri": "https://localhost:8080/"
        },
        "id": "YEqHZ4nNZRIV",
        "outputId": "cc860ae0-d411-43bf-d601-7d2661072ab9"
      },
      "execution_count": null,
      "outputs": [
        {
          "output_type": "stream",
          "name": "stdout",
          "text": [
            "1 / 1\n",
            "2 / 3\n",
            "3 / 5\n",
            "4 / 7\n",
            "5 / 9\n",
            "6 / 11\n",
            "7 / 13\n",
            "8 / 15\n",
            "9 / 17\n",
            "10 / 19\n",
            "11 / 21\n",
            "12 / 23\n",
            "13 / 25\n",
            "14 / 27\n",
            "15 / 29\n",
            "16 / 31\n",
            "17 / 33\n",
            "18 / 35\n",
            "19 / 37\n",
            "20 / 39\n",
            "21 / 41\n"
          ]
        }
      ]
    },
    {
      "cell_type": "code",
      "source": [
        "# Faca um programa que mostre 20 termos da serie a seguir\n",
        "# s = 1/1 + 2/3 + 3/5 + 4/7 + 5/9 + ...\n",
        "#MODO PROFESSORA\n",
        "\n",
        "i = 0\n",
        "cima = 1\n",
        "baixo = 1\n",
        "\n",
        "while i < 21:\n",
        "  print(f\"{cima}/{baixo}\")\n",
        "  cima = cima + 1\n",
        "  baixo = baixo + 2\n",
        "  i += 1\n"
      ],
      "metadata": {
        "colab": {
          "base_uri": "https://localhost:8080/"
        },
        "id": "EmurCQ9Rh_mc",
        "outputId": "92ba1b45-b730-475b-8edf-c5a3efe40673"
      },
      "execution_count": null,
      "outputs": [
        {
          "output_type": "stream",
          "name": "stdout",
          "text": [
            "1/1\n",
            "2/3\n",
            "3/5\n",
            "4/7\n",
            "5/9\n",
            "6/11\n",
            "7/13\n",
            "8/15\n",
            "9/17\n",
            "10/19\n",
            "11/21\n",
            "12/23\n",
            "13/25\n",
            "14/27\n",
            "15/29\n",
            "16/31\n",
            "17/33\n",
            "18/35\n",
            "19/37\n",
            "20/39\n",
            "21/41\n"
          ]
        }
      ]
    },
    {
      "cell_type": "code",
      "source": [
        "# Treinos\n",
        "# Faca um programa que mostre 20 termos da serie a seguir\n",
        "# s = 1/1 + 2/3 + 3/5 + 4/7 + 5/9 + ...\n",
        "#WHILE\n",
        "\n",
        "cont = 0\n",
        "emCima = 1\n",
        "emBaixo = 1\n",
        "\n",
        "while cont < 21:\n",
        "  print(f\"{emCima} / {emBaixo}\")\n",
        "  emCima += 1\n",
        "  emBaixo += 2\n",
        "  cont += 1\n",
        "\n"
      ],
      "metadata": {
        "id": "YlgDbJBkNAix"
      },
      "execution_count": null,
      "outputs": []
    },
    {
      "cell_type": "code",
      "source": [
        "# Treinos\n",
        "# Faca um programa que mostre 20 termos da serie a seguir\n",
        "# s = 1/1 + 2/3 + 3/5 + 4/7 + 5/9 + ...\n",
        "#FOR\n",
        "\n",
        "cont = 0\n",
        "emCima = 1\n",
        "emBaixo = 1\n",
        "\n",
        "for cont in range (21):\n",
        "  print(f\"{emCima} / {emBaixo}\")\n",
        "  emCima += 1\n",
        "  emBaixo += 2\n",
        "  #cont += 1"
      ],
      "metadata": {
        "id": "5qcc_e4aOFTM"
      },
      "execution_count": null,
      "outputs": []
    }
  ]
}