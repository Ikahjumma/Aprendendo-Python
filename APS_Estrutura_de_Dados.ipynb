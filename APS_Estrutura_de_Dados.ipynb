{
  "nbformat": 4,
  "nbformat_minor": 0,
  "metadata": {
    "colab": {
      "provenance": [],
      "authorship_tag": "ABX9TyMXn2bvyc49b3rZos4pSnx0"
    },
    "kernelspec": {
      "name": "python3",
      "display_name": "Python 3"
    },
    "language_info": {
      "name": "python"
    }
  },
  "cells": [
    {
      "cell_type": "code",
    
      
      "metadata": {
        "id": "n35YUq7cUz_b"
      },
      "execution_count": null,
      "outputs": []
    },
    {
      "cell_type": "code",
      "source": [
        "'''\n",
        "-------------PROPOSTAS------------------\n",
        "Resolver um problema onde um Super-Mercado deseja adicionar a sua lista de produtos pré definido o valor referente a cada produto.\n",
        "E também deseja ter como alterar e remover um produto.\n",
        "\n",
        "Produtos = [\"Arroz\", \"Feijão\", \"Sal\", \"Açucar\", \"Macarrão\", \"Oléo\"]\n",
        "\n",
        "obs. Pretendo usar a estrutura Lista e Dicionário\n",
        "'''"
      ],
      "metadata": {
        "id": "xCVXVG65VBO_"
      },
      "execution_count": null,
      "outputs": []
    },
    {
      "cell_type": "code",
      "source": [
        "Produtos =  [\"Arroz\", \"Feijão\", \"Sal\", \"Açucar\", \"Macarrão\", \"Oléo\"]\n",
        "\n",
        "produtosPreco = {}\n",
        "\n",
        "print(\"--Adicionando Preço--\")\n",
        "for i in range(0,6):\n",
        "  preço = float(input(f\"Valor do produto {Produtos[i]}: \"))\n",
        "  produtosPreco[Produtos[i]] = preço\n",
        "print(\"\")\n",
        "print(Produtos)\n",
        "print(\"\")\n",
        "print(produtosPreco)\n",
        "\n",
        "#Menu para alterações\n",
        "while True:\n",
        "  print(\"\\n--O que deseja fazer?--\")\n",
        "  print(\"1 - Adicionar um item\")\n",
        "  print(\"2 - Deletar um item\")\n",
        "  print(\"3 - Sair \\n\")\n",
        "\n",
        "  opcao = input(\"Escolha um opção: \\n\")\n",
        "  if opcao == \"1\":\n",
        "    novoProduto = input(\"Digite o nome do produto: \")\n",
        "    Produtos.append(novoProduto)\n",
        "    novoPreco = float(input(\"Digite o valor: \"))\n",
        "    produtosPreco[novoProduto] =  novoPreco\n",
        "    print(\"\")\n",
        "    print(f\"Produtos Atualizados: {Produtos}\")\n",
        "    print(\"\")\n",
        "    print(f\"Preço Atualizados: {produtosPreco}\")\n",
        "  elif opcao == \"2\":\n",
        "    remover = input(\"Digite o nome do produto para remover: \")\n",
        "    Produtos.remove(remover)\n",
        "    produtosPreco.pop(remover)\n",
        "    print(\"\")\n",
        "    print(f\"Produtos Atualizados: {Produtos}\")\n",
        "    print(\"\")\n",
        "    print(f\"Preço Atualizados: {produtosPreco}\")\n",
        "  elif opcao == \"3\":\n",
        "    print(\"Saindo.\")\n",
        "    break\n",
        "  else:\n",
        "    print(\"Opção inválida, tente novamente!\")\n",
        "\n",
        "\n"
      ],
      "metadata": {
        "colab": {
          "base_uri": "https://localhost:8080/"
        },
        "id": "9_mQVUSoD8rF",
        "outputId": "d5b7a18e-be46-4b83-c1f2-65331975e05e"
      },
      "execution_count": null,
      "outputs": [
        {
          "output_type": "stream",
          "name": "stdout",
          "text": [
            "--Adicionando Preço--\n",
            "Valor do produto Arroz: 22.89\n",
            "Valor do produto Feijão: 8.99\n",
            "Valor do produto Sal: 2.55\n",
            "Valor do produto Açucar: 3.99\n",
            "Valor do produto Macarrão: 3.56\n",
            "Valor do produto Oléo: 6.99\n",
            "\n",
            "['Arroz', 'Feijão', 'Sal', 'Açucar', 'Macarrão', 'Oléo']\n",
            "\n",
            "{'Arroz': 22.89, 'Feijão': 8.99, 'Sal': 2.55, 'Açucar': 3.99, 'Macarrão': 3.56, 'Oléo': 6.99}\n",
            "\n",
            "--O que deseja fazer?--\n",
            "1 - Adicionar um item\n",
            "2 - Deletar um item\n",
            "3 - Sair \n",
            "\n",
            "Escolha um opção: \n",
            "1\n",
            "Digite o nome do produto: Milho\n",
            "Digite o valor: 5.99\n",
            "\n",
            "Produtos Atualizados: ['Arroz', 'Feijão', 'Sal', 'Açucar', 'Macarrão', 'Oléo', 'Milho']\n",
            "\n",
            "Preço Atualizados: {'Arroz': 22.89, 'Feijão': 8.99, 'Sal': 2.55, 'Açucar': 3.99, 'Macarrão': 3.56, 'Oléo': 6.99, 'Milho': 5.99}\n",
            "\n",
            "--O que deseja fazer?--\n",
            "1 - Adicionar um item\n",
            "2 - Deletar um item\n",
            "3 - Sair \n",
            "\n",
            "Escolha um opção: \n",
            "2\n",
            "Digite o nome do produto para remover: Sal\n",
            "\n",
            "Produtos Atualizados: ['Arroz', 'Feijão', 'Açucar', 'Macarrão', 'Oléo', 'Milho']\n",
            "\n",
            "Preço Atualizados: {'Arroz': 22.89, 'Feijão': 8.99, 'Açucar': 3.99, 'Macarrão': 3.56, 'Oléo': 6.99, 'Milho': 5.99}\n",
            "\n",
            "--O que deseja fazer?--\n",
            "1 - Adicionar um item\n",
            "2 - Deletar um item\n",
            "3 - Sair \n",
            "\n",
            "Escolha um opção: \n",
            "3\n",
            "Saindo.\n"
          ]
        }
      ]
    }
  ]
}
