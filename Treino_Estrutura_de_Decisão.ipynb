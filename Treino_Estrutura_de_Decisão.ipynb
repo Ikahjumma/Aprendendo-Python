{
  "nbformat": 4,
  "nbformat_minor": 0,
  "metadata": {
    "colab": {
      "provenance": [],
      "authorship_tag": "ABX9TyOGSHoCBFp9PrnMxkFnlE8/"
    },
    "kernelspec": {
      "name": "python3",
      "display_name": "Python 3"
    },
    "language_info": {
      "name": "python"
    }
  },
  "cells": [
    {
      "cell_type": "code",
      "execution_count": null,
      "metadata": {
        "colab": {
          "base_uri": "https://localhost:8080/"
        },
        "id": "0nS30qobEDIC",
        "outputId": "6ad0dffc-f76e-4824-9aeb-e1a654eb0da8"
      },
      "outputs": [
        {
          "output_type": "stream",
          "name": "stdout",
          "text": [
            "Digite o primeiro número: 5\n",
            "Digite o segundo número: 8\n",
            "O maior número digitado foi 8\n"
          ]
        }
      ],
      "source": [
        "# 1 Faça um Programa que peça dois números e imprima o maior deles.\n",
        "\n",
        "numero1 = int (input(\"Digite o primeiro número: \"))\n",
        "numero2 = int (input(\"Digite o segundo número: \"))\n",
        "\n",
        "if numero1 > numero2 :\n",
        "  print(\"O maior número digitado foi %.f\" %numero1)\n",
        "\n",
        "else:\n",
        "  print(\"O maior número digitado foi %.f\" %numero2)"
      ]
    },
    {
      "cell_type": "code",
      "source": [
        "# 2 Faça um Programa que peça um valor e mostre na tela se o valor é positivo ou negativo.\n",
        "\n",
        "valor = int (input(\"Digite um número: \"))\n",
        "\n",
        "if valor > 0 :\n",
        "  print(\"O valor digitado é um númemro positivo!\")\n",
        "\n",
        "else:\n",
        "  print(\"O valor digitado é um número negativo!\")"
      ],
      "metadata": {
        "colab": {
          "base_uri": "https://localhost:8080/"
        },
        "id": "sZeUDOiOFRTu",
        "outputId": "ba10c145-8e1e-46b6-8d0f-7cb8691ed109"
      },
      "execution_count": null,
      "outputs": [
        {
          "output_type": "stream",
          "name": "stdout",
          "text": [
            "Digite um número: 0\n",
            "O valor digitado é um númemro positivo!\n"
          ]
        }
      ]
    },
    {
      "cell_type": "code",
      "source": [
        "# 3 Faça um Programa que verifique se uma letra digitada é \"F\" ou \"M\". Conforme a letra escrever: F - Feminino, M - Masculino, Sexo Inválido.\n",
        "\n",
        "\n",
        "genero = input(\"Informe seu gênero[F/M]: \")\n",
        "\n",
        "if genero == \"F\" or genero == \"f\":\n",
        "  print(\"Gênero Feminino.\")\n",
        "elif genero == \"M\" or genero == \"m\":\n",
        "  print(\"Gênero Masculino.\")\n",
        "else:\n",
        "  print(\"Gênero Inválido!!\")"
      ],
      "metadata": {
        "colab": {
          "base_uri": "https://localhost:8080/"
        },
        "id": "iiivYdpIG8Zk",
        "outputId": "c88df3e2-5a78-44f9-beb5-56fbd1997e0d"
      },
      "execution_count": null,
      "outputs": [
        {
          "output_type": "stream",
          "name": "stdout",
          "text": [
            "Informe seu gênero[F/M]: M\n",
            "Gênero Masculino.\n"
          ]
        }
      ]
    },
    {
      "cell_type": "code",
      "source": [
        "# 4 Faça um Programa que verifique se uma letra digitada é vogal ou consoante.\n",
        "\n",
        "Letra = input(\"Digite uma letra: \")\n",
        "\n",
        "if Letra == \"a\" or \"e\" or \"i\" or \"o\" or \"u\":\n",
        "  print(\"A letra é uma vogal.\")\n",
        "else:\n",
        "  print(\"A letra é uma consoante.\")\n"
      ],
      "metadata": {
        "id": "JXlSE4ckJVn-",
        "colab": {
          "base_uri": "https://localhost:8080/"
        },
        "outputId": "e3f6d979-dcb6-4510-a929-be5e7907b237"
      },
      "execution_count": 6,
      "outputs": [
        {
          "output_type": "stream",
          "name": "stdout",
          "text": [
            "Digite uma letra: I\n",
            "A letra é uma vogal.\n"
          ]
        }
      ]
    },
    {
      "cell_type": "code",
      "source": [
        "# 5 Faça um programa para a leitura de duas notas parciais de um aluno. O programa deve calcular a média alcançada por aluno e apresentar:\n",
        "# A mensagem \"Aprovado\", se a média alcançada for maior ou igual a sete;\n",
        "# A mensagem \"Reprovado\", se a média for menor do que sete;\n",
        "# A mensagem \"Aprovado com Distinção\", se a média for igual a dez.\n"
      ],
      "metadata": {
        "id": "SABkbAx2XblA"
      },
      "execution_count": null,
      "outputs": []
    }
  ]
}