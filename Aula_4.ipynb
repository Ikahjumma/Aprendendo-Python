{
  "nbformat": 4,
  "nbformat_minor": 0,
  "metadata": {
    "colab": {
      "provenance": [],
      "authorship_tag": "ABX9TyPYuqKPkc0+yQ1Sa3kEdvus"
    },
    "kernelspec": {
      "name": "python3",
      "display_name": "Python 3"
    },
    "language_info": {
      "name": "python"
    }
  },
  "cells": [
    {
      "cell_type": "code",
      "execution_count": null,
      "metadata": {
        "colab": {
          "base_uri": "https://localhost:8080/"
        },
        "id": "bIZFChhbBbnT",
        "outputId": "dcfde472-953c-4090-9bfc-c3eeb7d23530"
      },
      "outputs": [
        {
          "output_type": "stream",
          "name": "stdout",
          "text": [
            "Informe seu nome: Blá\n",
            "Informe seu salário: 1000\n",
            "Blá recebe um salário bruto no valor de R$ 1000.00. \n",
            "O valor do imposto é de R$ 100.00 e o salário líquido é de R$ 900.00\n"
          ]
        }
      ],
      "source": [
        "# receba o salário e o nome de uma pessoa\n",
        "# se o salário for >= a 5000 o imposto será 25% do salário\n",
        "# se o salário for < 5000 o imposto será 10% do salário\n",
        "# no final, apresentar o nome da pessoa, seu salário bruto, seu salário líquido e o valor do imposto\n",
        "\n",
        "nome = input(\"Informe seu nome: \")\n",
        "salario = float(input(\"Informe seu salário: \"))\n",
        "\n",
        "if salario >= 5000:\n",
        "  imposto = salario * .25\n",
        "else:\n",
        "  imposto = salario * .1\n",
        "\n",
        "salarioLiquido = salario - imposto\n",
        "\n",
        "print(f\"{nome} recebe um salário bruto no valor de R${salario:.2f}. \\nO valor do imposto é de R${imposto:.2f} e o salário líquido é de R${salarioLiquido:.2f}\" )\n",
        "\n",
        "#print(\"Salário Bruto R$ %.2f\" %salario)\n",
        "#print(\"Salário Líquido R$ %.2f\" %salarioLiquido)\n",
        "#print(\"Valor do Imposto R$ %.2f\" %imposto)"
      ]
    },
    {
      "cell_type": "code",
      "source": [
        "#Faça um programa para ler o número da conta bancária do cliente, saldo, débito, crédito. Após calcular e escrever o saldo atual\n",
        "# saldo atual = saldo - débito + crédito). também testar se saldo atual for maior ou igual a zero escrever a mensagem \"Saldo positivo\"\n",
        "# senão \"saldo negativo\"\n",
        "\n",
        "print(\"-----Conta Bancária-----\")\n",
        "NumConta = input( \"Digite o número da conta: \") #não preciasa converter, contas possuem primeiro número como 0 e pode gerar erro\n",
        "saldo = float(input(\"Digite o valo do saldo: \"))\n",
        "debito = float(input(\"Digite o valor do débito: \"))\n",
        "credito = float(input(\"Digite o valor do crédito: \"))\n",
        "\n",
        "saldoAtual = saldo - debito + credito\n",
        "\n",
        "if saldoAtual >= 0:\n",
        "  print(\"Saldo Positivo de %.2f\" %saldoAtual)\n",
        "else:\n",
        "  print(\"Saldo Negativo de %.2f\" %saldoAtual)\n"
      ],
      "metadata": {
        "colab": {
          "base_uri": "https://localhost:8080/"
        },
        "id": "9OGq8nkFLIkE",
        "outputId": "965df235-35f5-4975-f3c1-093217eb699c"
      },
      "execution_count": null,
      "outputs": [
        {
          "output_type": "stream",
          "name": "stdout",
          "text": [
            "-----Conta Bancária-----\n",
            "Digite o número da conta: 6666\n",
            "Digite o valo do saldo: 1000\n",
            "Digite o valor do débito: 6000\n",
            "Digite o valor do crédito: 0\n",
            "Saldo Negativo de -5000.00\n"
          ]
        }
      ]
    },
    {
      "cell_type": "code",
      "source": [
        "#Faça um programa para ler o número da conta bancária do cliente, saldo, débito, crédito. Após calcular e escrever o saldo atual\n",
        "# saldo atual = saldo - débito + crédito). também testar se saldo atual for maior ou igual a zero escrever a mensagem \"Saldo positivo\"\n",
        "# senão \"saldo negativo\"\n",
        "\n",
        "#COM IF ENCADEADO/ANINHADO\n",
        "print(\"-----Conta Bancária-----\")\n",
        "NumConta = input( \"Digite o número da conta: \")\n",
        "saldo = float(input(\"Digite o valo do saldo: \"))\n",
        "debito = float(input(\"Digite o valor do débito: \"))\n",
        "credito = float(input(\"Digite o valor do crédito: \"))\n",
        "\n",
        "saldoAtual = saldo - debito + credito\n",
        "\n",
        "if saldoAtual > 0:\n",
        "  print(\"Saldo Positivo de %.2f\" %saldoAtual)\n",
        "elif saldoAtual == 0:\n",
        "  print(\"Saldo Zerado.\")\n",
        "else:\n",
        "  print(\"Saldo Negativo de %.2f\" %saldoAtual)"
      ],
      "metadata": {
        "colab": {
          "base_uri": "https://localhost:8080/"
        },
        "id": "jWclUh0OXvwZ",
        "outputId": "96453b2a-72ff-48af-d398-fae596d01e0a"
      },
      "execution_count": null,
      "outputs": [
        {
          "output_type": "stream",
          "name": "stdout",
          "text": [
            "-----Conta Bancária-----\n",
            "Digite o número da conta: 500\n",
            "Digite o valo do saldo: 666\n",
            "Digite o valor do débito: 850.65\n",
            "Digite o valor do crédito: 10.45\n",
            "Saldo Negativo de -174.20\n"
          ]
        }
      ]
    },
    {
      "cell_type": "code",
      "source": [
        "# Escreva um programa que leia dois números e que pergunte qual operação você deseja realizar.\n",
        "# você deve poder calcular soma (+), subtração (-), multiplicação (*) e divisão (/). exiba o resultado da operação solicitada.\n",
        "\n",
        "n1 = int (input(\"Digite o primeiro numero: \"))\n",
        "n2 = int (input(\"Digite o segundo número: \"))\n",
        "operacao = input(\"Qual operação deseja realizar? [+, -, *, /]: \")\n",
        "\n",
        "if operacao == \"+\":\n",
        "  resultado = n1 + n2\n",
        "elif operacao == \"-\":\n",
        "  resultado = n1 - n2\n",
        "elif operacao == \"*\":\n",
        "  resultado = n1 * n2\n",
        "elif operacao == \"/\":\n",
        "  if n2 > 0 :\n",
        "    resultado = n1 / n2\n",
        "  else:\n",
        "    resultado = \"Impossível dividir por 0\"\n",
        "else:\n",
        "  resultado = \"Operação Inválida\"\n",
        "\n",
        "print(f\"Resultado = {resultado}\")\n"
      ],
      "metadata": {
        "colab": {
          "base_uri": "https://localhost:8080/"
        },
        "id": "9uOqUp3kZme7",
        "outputId": "83bc623e-0560-4c0f-91c5-d789a89f80ee"
      },
      "execution_count": null,
      "outputs": [
        {
          "output_type": "stream",
          "name": "stdout",
          "text": [
            "Digite o primeiro numero: 8\n",
            "Digite o segundo número: 2\n",
            "Qual operação deseja realizar? [+, -, *, /]: /\n",
            "4.0\n"
          ]
        }
      ]
    }
  ]
}